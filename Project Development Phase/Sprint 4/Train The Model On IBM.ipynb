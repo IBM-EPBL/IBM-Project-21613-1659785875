{
 "cells": [
  {
   "cell_type": "markdown",
   "id": "7d7e440a",
   "metadata": {
    "id": "7d7e440a"
   },
   "source": [
    "#**SPRINT 1**"
   ]
  },
  {
   "cell_type": "markdown",
   "id": "b2e7615b",
   "metadata": {
    "id": "b2e7615b"
   },
   "source": [
    " ### **DATA PREPROCESSING**"
   ]
  },
  {
   "cell_type": "code",
   "execution_count": 33,
   "id": "7d3f7dc6",
   "metadata": {},
   "outputs": [
    {
     "data": {
      "text/plain": [
       "'/home/wsuser/work'"
      ]
     },
     "execution_count": 33,
     "metadata": {},
     "output_type": "execute_result"
    }
   ],
   "source": [
    "pwd"
   ]
  },
  {
   "cell_type": "code",
   "execution_count": 34,
   "id": "9201b36b",
   "metadata": {},
   "outputs": [
    {
     "name": "stdout",
     "output_type": "stream",
     "text": [
      "Requirement already satisfied: keras in /opt/conda/envs/Python-3.9/lib/python3.9/site-packages (2.2.4)\n",
      "Requirement already satisfied: six>=1.9.0 in /opt/conda/envs/Python-3.9/lib/python3.9/site-packages (from keras) (1.15.0)\n",
      "Requirement already satisfied: scipy>=0.14 in /opt/conda/envs/Python-3.9/lib/python3.9/site-packages (from keras) (1.7.3)\n",
      "Requirement already satisfied: pyyaml in /opt/conda/envs/Python-3.9/lib/python3.9/site-packages (from keras) (5.4.1)\n",
      "Requirement already satisfied: h5py in /opt/conda/envs/Python-3.9/lib/python3.9/site-packages (from keras) (3.1.0)\n",
      "Requirement already satisfied: keras-applications>=1.0.6 in /opt/conda/envs/Python-3.9/lib/python3.9/site-packages (from keras) (1.0.8)\n",
      "Requirement already satisfied: keras-preprocessing>=1.0.5 in /opt/conda/envs/Python-3.9/lib/python3.9/site-packages (from keras) (1.1.2)\n",
      "Requirement already satisfied: numpy>=1.9.1 in /opt/conda/envs/Python-3.9/lib/python3.9/site-packages (from keras) (1.19.5)\n",
      "Requirement already satisfied: tensorflow in /opt/conda/envs/Python-3.9/lib/python3.9/site-packages (2.5.0)\n",
      "Requirement already satisfied: flatbuffers~=1.12.0 in /opt/conda/envs/Python-3.9/lib/python3.9/site-packages (from tensorflow) (1.12)\n",
      "Requirement already satisfied: keras-preprocessing~=1.1.2 in /opt/conda/envs/Python-3.9/lib/python3.9/site-packages (from tensorflow) (1.1.2)\n",
      "Requirement already satisfied: wheel~=0.35 in /opt/conda/envs/Python-3.9/lib/python3.9/site-packages (from tensorflow) (0.37.0)\n",
      "Requirement already satisfied: tensorboard~=2.5 in /opt/conda/envs/Python-3.9/lib/python3.9/site-packages (from tensorflow) (2.7.0)\n",
      "Requirement already satisfied: google-pasta~=0.2 in /opt/conda/envs/Python-3.9/lib/python3.9/site-packages (from tensorflow) (0.2.0)\n",
      "Requirement already satisfied: typing-extensions~=3.7.4 in /opt/conda/envs/Python-3.9/lib/python3.9/site-packages (from tensorflow) (3.7.4.3)\n",
      "Requirement already satisfied: protobuf>=3.9.2 in /opt/conda/envs/Python-3.9/lib/python3.9/site-packages (from tensorflow) (3.19.1)\n",
      "Requirement already satisfied: numpy~=1.19.2 in /opt/conda/envs/Python-3.9/lib/python3.9/site-packages (from tensorflow) (1.19.5)\n",
      "Requirement already satisfied: grpcio~=1.34.0 in /opt/conda/envs/Python-3.9/lib/python3.9/site-packages (from tensorflow) (1.34.1)\n",
      "Requirement already satisfied: absl-py~=0.10 in /opt/conda/envs/Python-3.9/lib/python3.9/site-packages (from tensorflow) (0.12.0)\n",
      "Requirement already satisfied: tensorflow-estimator<2.6.0,>=2.5.0rc0 in /opt/conda/envs/Python-3.9/lib/python3.9/site-packages (from tensorflow) (2.5.0)\n",
      "Requirement already satisfied: termcolor~=1.1.0 in /opt/conda/envs/Python-3.9/lib/python3.9/site-packages (from tensorflow) (1.1.0)\n",
      "Requirement already satisfied: h5py~=3.1.0 in /opt/conda/envs/Python-3.9/lib/python3.9/site-packages (from tensorflow) (3.1.0)\n",
      "Requirement already satisfied: wrapt~=1.12.1 in /opt/conda/envs/Python-3.9/lib/python3.9/site-packages (from tensorflow) (1.12.1)\n",
      "Requirement already satisfied: six~=1.15.0 in /opt/conda/envs/Python-3.9/lib/python3.9/site-packages (from tensorflow) (1.15.0)\n",
      "Requirement already satisfied: gast==0.4.0 in /opt/conda/envs/Python-3.9/lib/python3.9/site-packages (from tensorflow) (0.4.0)\n",
      "Requirement already satisfied: opt-einsum~=3.3.0 in /opt/conda/envs/Python-3.9/lib/python3.9/site-packages (from tensorflow) (3.3.0)\n",
      "Requirement already satisfied: keras-nightly~=2.5.0.dev in /opt/conda/envs/Python-3.9/lib/python3.9/site-packages (from tensorflow) (2.5.0.dev2021032900)\n",
      "Requirement already satisfied: astunparse~=1.6.3 in /opt/conda/envs/Python-3.9/lib/python3.9/site-packages (from tensorflow) (1.6.3)\n",
      "Requirement already satisfied: werkzeug>=0.11.15 in /opt/conda/envs/Python-3.9/lib/python3.9/site-packages (from tensorboard~=2.5->tensorflow) (2.0.2)\n",
      "Requirement already satisfied: requests<3,>=2.21.0 in /opt/conda/envs/Python-3.9/lib/python3.9/site-packages (from tensorboard~=2.5->tensorflow) (2.26.0)\n",
      "Requirement already satisfied: google-auth-oauthlib<0.5,>=0.4.1 in /opt/conda/envs/Python-3.9/lib/python3.9/site-packages (from tensorboard~=2.5->tensorflow) (0.4.4)\n",
      "Requirement already satisfied: markdown>=2.6.8 in /opt/conda/envs/Python-3.9/lib/python3.9/site-packages (from tensorboard~=2.5->tensorflow) (3.3.3)\n",
      "Requirement already satisfied: google-auth<3,>=1.6.3 in /opt/conda/envs/Python-3.9/lib/python3.9/site-packages (from tensorboard~=2.5->tensorflow) (1.23.0)\n",
      "Requirement already satisfied: setuptools>=41.0.0 in /opt/conda/envs/Python-3.9/lib/python3.9/site-packages (from tensorboard~=2.5->tensorflow) (58.0.4)\n",
      "Requirement already satisfied: tensorboard-plugin-wit>=1.6.0 in /opt/conda/envs/Python-3.9/lib/python3.9/site-packages (from tensorboard~=2.5->tensorflow) (1.6.0)\n",
      "Requirement already satisfied: tensorboard-data-server<0.7.0,>=0.6.0 in /opt/conda/envs/Python-3.9/lib/python3.9/site-packages (from tensorboard~=2.5->tensorflow) (0.6.1)\n",
      "Requirement already satisfied: cachetools<5.0,>=2.0.0 in /opt/conda/envs/Python-3.9/lib/python3.9/site-packages (from google-auth<3,>=1.6.3->tensorboard~=2.5->tensorflow) (4.2.2)\n",
      "Requirement already satisfied: rsa<5,>=3.1.4 in /opt/conda/envs/Python-3.9/lib/python3.9/site-packages (from google-auth<3,>=1.6.3->tensorboard~=2.5->tensorflow) (4.7.2)\n",
      "Requirement already satisfied: pyasn1-modules>=0.2.1 in /opt/conda/envs/Python-3.9/lib/python3.9/site-packages (from google-auth<3,>=1.6.3->tensorboard~=2.5->tensorflow) (0.2.8)\n",
      "Requirement already satisfied: requests-oauthlib>=0.7.0 in /opt/conda/envs/Python-3.9/lib/python3.9/site-packages (from google-auth-oauthlib<0.5,>=0.4.1->tensorboard~=2.5->tensorflow) (1.3.0)\n",
      "Requirement already satisfied: pyasn1<0.5.0,>=0.4.6 in /opt/conda/envs/Python-3.9/lib/python3.9/site-packages (from pyasn1-modules>=0.2.1->google-auth<3,>=1.6.3->tensorboard~=2.5->tensorflow) (0.4.8)\n",
      "Requirement already satisfied: certifi>=2017.4.17 in /opt/conda/envs/Python-3.9/lib/python3.9/site-packages (from requests<3,>=2.21.0->tensorboard~=2.5->tensorflow) (2022.9.24)\n",
      "Requirement already satisfied: urllib3<1.27,>=1.21.1 in /opt/conda/envs/Python-3.9/lib/python3.9/site-packages (from requests<3,>=2.21.0->tensorboard~=2.5->tensorflow) (1.26.7)\n",
      "Requirement already satisfied: charset-normalizer~=2.0.0 in /opt/conda/envs/Python-3.9/lib/python3.9/site-packages (from requests<3,>=2.21.0->tensorboard~=2.5->tensorflow) (2.0.4)\n",
      "Requirement already satisfied: idna<4,>=2.5 in /opt/conda/envs/Python-3.9/lib/python3.9/site-packages (from requests<3,>=2.21.0->tensorboard~=2.5->tensorflow) (3.3)\n",
      "Requirement already satisfied: oauthlib>=3.0.0 in /opt/conda/envs/Python-3.9/lib/python3.9/site-packages (from requests-oauthlib>=0.7.0->google-auth-oauthlib<0.5,>=0.4.1->tensorboard~=2.5->tensorflow) (3.2.1)\n",
      "Requirement already satisfied: matplotlib in /opt/conda/envs/Python-3.9/lib/python3.9/site-packages (3.5.0)\n",
      "Requirement already satisfied: numpy>=1.17 in /opt/conda/envs/Python-3.9/lib/python3.9/site-packages (from matplotlib) (1.19.5)\n",
      "Requirement already satisfied: pyparsing>=2.2.1 in /opt/conda/envs/Python-3.9/lib/python3.9/site-packages (from matplotlib) (3.0.4)\n",
      "Requirement already satisfied: pillow>=6.2.0 in /opt/conda/envs/Python-3.9/lib/python3.9/site-packages (from matplotlib) (9.0.1)\n",
      "Requirement already satisfied: kiwisolver>=1.0.1 in /opt/conda/envs/Python-3.9/lib/python3.9/site-packages (from matplotlib) (1.3.1)\n",
      "Requirement already satisfied: python-dateutil>=2.7 in /opt/conda/envs/Python-3.9/lib/python3.9/site-packages (from matplotlib) (2.8.2)\n",
      "Requirement already satisfied: cycler>=0.10 in /opt/conda/envs/Python-3.9/lib/python3.9/site-packages (from matplotlib) (0.11.0)\n",
      "Requirement already satisfied: fonttools>=4.22.0 in /opt/conda/envs/Python-3.9/lib/python3.9/site-packages (from matplotlib) (4.25.0)\n",
      "Requirement already satisfied: packaging>=20.0 in /opt/conda/envs/Python-3.9/lib/python3.9/site-packages (from matplotlib) (21.3)\n",
      "Requirement already satisfied: six>=1.5 in /opt/conda/envs/Python-3.9/lib/python3.9/site-packages (from python-dateutil>=2.7->matplotlib) (1.15.0)\n"
     ]
    }
   ],
   "source": [
    "!pip install keras\n",
    "!pip install tensorflow\n",
    "!pip install matplotlib\n"
   ]
  },
  {
   "cell_type": "code",
   "execution_count": 35,
   "id": "80d773c3",
   "metadata": {},
   "outputs": [
    {
     "name": "stdout",
     "output_type": "stream",
     "text": [
      "Requirement already satisfied: numpy in /opt/conda/envs/Python-3.9/lib/python3.9/site-packages (1.19.5)\r\n"
     ]
    }
   ],
   "source": [
    "!pip install numpy"
   ]
  },
  {
   "cell_type": "code",
   "execution_count": 36,
   "id": "T5On3WPZct6b",
   "metadata": {
    "id": "T5On3WPZct6b"
   },
   "outputs": [],
   "source": [
    "import numpy as np\n",
    "import pandas as pd\n",
    "import matplotlib.pyplot as plt\n",
    "import tensorflow as tf\n",
    "from tensorflow.keras.datasets import mnist\n",
    "from tensorflow.keras.models import Sequential\n",
    "from tensorflow.keras import layers\n",
    "from tensorflow.keras.layers import Dense,Flatten,MaxPooling2D\n",
    "from tensorflow.keras.layers import Conv2D\n",
    "from tensorflow.keras.optimizers import Adam\n",
    "from keras.utils import np_utils\n",
    "from tensorflow.keras.models import load_model"
   ]
  },
  {
   "cell_type": "code",
   "execution_count": 11,
   "id": "Fy2C685FgD2m",
   "metadata": {
    "id": "Fy2C685FgD2m"
   },
   "outputs": [
    {
     "name": "stdout",
     "output_type": "stream",
     "text": [
      "hi\n"
     ]
    }
   ],
   "source": []
  },
  {
   "cell_type": "markdown",
   "id": "9KygWwU9ljQu",
   "metadata": {
    "id": "9KygWwU9ljQu"
   },
   "source": [
    "## **Loading the Data**"
   ]
  },
  {
   "cell_type": "code",
   "execution_count": 37,
   "id": "1deada77",
   "metadata": {
    "colab": {
     "base_uri": "https://localhost:8080/"
    },
    "id": "1deada77",
    "outputId": "530e54a4-ab70-4726-866d-c2ff1219736e"
   },
   "outputs": [
    {
     "name": "stdout",
     "output_type": "stream",
     "text": [
      "(60000, 28, 28)\n",
      "(10000, 28, 28)\n"
     ]
    }
   ],
   "source": [
    "(X_train, Y_train), (X_test, Y_test) = mnist.load_data()\n",
    "print(X_train.shape)\n",
    "print(X_test.shape)"
   ]
  },
  {
   "cell_type": "markdown",
   "id": "yH73P0LtmJ-4",
   "metadata": {
    "id": "yH73P0LtmJ-4"
   },
   "source": [
    "# **Analyzing the data**"
   ]
  },
  {
   "cell_type": "code",
   "execution_count": 38,
   "id": "7509f357",
   "metadata": {
    "colab": {
     "base_uri": "https://localhost:8080/"
    },
    "id": "7509f357",
    "outputId": "6ce59d73-4896-459c-853d-d1e267152050"
   },
   "outputs": [
    {
     "data": {
      "text/plain": [
       "array([[  0,   0,   0,   0,   0,   0,   0,   0,   0,   0,   0,   0,   0,\n",
       "          0,   0,   0,   0,   0,   0,   0,   0,   0,   0,   0,   0,   0,\n",
       "          0,   0],\n",
       "       [  0,   0,   0,   0,   0,   0,   0,   0,   0,   0,   0,   0,   0,\n",
       "          0,   0,   0,   0,   0,   0,   0,   0,   0,   0,   0,   0,   0,\n",
       "          0,   0],\n",
       "       [  0,   0,   0,   0,   0,   0,   0,   0,   0,   0,   0,   0,   0,\n",
       "          0,   0,   0,   0,   0,   0,   0,   0,   0,   0,   0,   0,   0,\n",
       "          0,   0],\n",
       "       [  0,   0,   0,   0,   0,   0,   0,   0,   0,   0,   0,   0,   0,\n",
       "          0,   0,   0,   0,   0,   0,   0,   0,   0,   0,   0,   0,   0,\n",
       "          0,   0],\n",
       "       [  0,   0,   0,   0,   0,   0,   0,   0,   0,   0,   0,   0,   0,\n",
       "          0,   0,   0,   0,   0,   0,   0,   0,   0,   0,   0,   0,   0,\n",
       "          0,   0],\n",
       "       [  0,   0,   0,   0,   0,   0,   0,   0,   0,   0,   0,   0,   0,\n",
       "          0,   0,   0,   0,   0,   0,   0,   0,   0,   0,   0,   0,   0,\n",
       "          0,   0],\n",
       "       [  0,   0,   0,   0,   0,   0,   0,   0,   0,   0,   0,   0,   0,\n",
       "          0,   0,   0,   0,   0,   0,   0,   0,   0,   0,   0,   0,   0,\n",
       "          0,   0],\n",
       "       [  0,   0,   0,   0,   0,   0,   0,   0,   0,   0,   0,   0,   0,\n",
       "          0,   1,  13,  88, 156, 254, 162,  89,   0,   0,   0,   0,   0,\n",
       "          0,   0],\n",
       "       [  0,   0,   0,   0,   0,   0,   0,   0,   0,   0,  61, 145, 145,\n",
       "        145, 151, 253, 253, 253, 253, 253, 217,  21,   0,   0,   0,   0,\n",
       "          0,   0],\n",
       "       [  0,   0,   0,   0,   0,   0,   0,  25,  66, 157, 235, 253, 253,\n",
       "        253, 254, 253, 248, 217, 243, 253, 253,  36,   0,   0,   0,   0,\n",
       "          0,   0],\n",
       "       [  0,   0,   0,   0,   0,   0, 106, 226, 253, 253, 253, 253, 253,\n",
       "        149, 142,  84,  72,  10, 195, 253, 196,  12,   0,   0,   0,   0,\n",
       "          0,   0],\n",
       "       [  0,   0,   0,   0,   0,   0, 128, 253, 253, 207, 193, 146,  72,\n",
       "          4,   0,   0,   0,  49, 253, 253, 139,   0,   0,   0,   0,   0,\n",
       "          0,   0],\n",
       "       [  0,   0,   0,   0,   0,   0,   9,  60,  60,  14,   0,   0,   0,\n",
       "          0,   0,   0,   0,  84, 253, 232,  34,   0,   0,   0,   0,   0,\n",
       "          0,   0],\n",
       "       [  0,   0,   0,   0,   0,   0,   0,   0,   0,   0,   0,   0,   0,\n",
       "          0,   0,   0,   0, 169, 253,  83,   0,   0,   0,   0,   0,   0,\n",
       "          0,   0],\n",
       "       [  0,   0,   0,   0,   0,   0,   0,   0,   0,   0,   0,   0,   0,\n",
       "          0,   0,   0, 135, 242, 230,  37,   0,   0,   0,   0,   0,   0,\n",
       "          0,   0],\n",
       "       [  0,   0,   0,   0,   0,   0,   0,   0,   0,   0,   0,   0,   0,\n",
       "          0,   0,  11, 199, 232,  52,   0,   0,   0,   0,   0,   0,   0,\n",
       "          0,   0],\n",
       "       [  0,   0,   0,   0,   0,   0,   0,   0,   0,   0,   0,   0,   0,\n",
       "          0,  12, 243, 253, 147,   0,   0,   0,   0,   0,   0,   0,   0,\n",
       "          0,   0],\n",
       "       [  0,   0,   0,   0,   0,   0,   0,   0,   0,   0,   0,   0,   0,\n",
       "          0,  19, 254, 212,   0,   0,   0,   0,   0,   0,   0,   0,   0,\n",
       "          0,   0],\n",
       "       [  0,   0,   0,   0,   0,   0,   0,   0,   0,   0,   0,   0,   0,\n",
       "         12, 203, 251,  87,   0,   0,   0,   0,   0,   0,   0,   0,   0,\n",
       "          0,   0],\n",
       "       [  0,   0,   0,   0,   0,   0,   0,   0,   0,   0,   0,   0,   0,\n",
       "        138, 254, 212,   0,   0,   0,   0,   0,   0,   0,   0,   0,   0,\n",
       "          0,   0],\n",
       "       [  0,   0,   0,   0,   0,   0,   0,   0,   0,   0,   0,   0,  45,\n",
       "        244, 246,  36,   0,   0,   0,   0,   0,   0,   0,   0,   0,   0,\n",
       "          0,   0],\n",
       "       [  0,   0,   0,   0,   0,   0,   0,   0,   0,   0,   0,   0, 230,\n",
       "        253, 155,   0,   0,   0,   0,   0,   0,   0,   0,   0,   0,   0,\n",
       "          0,   0],\n",
       "       [  0,   0,   0,   0,   0,   0,   0,   0,   0,   0,   0, 110, 248,\n",
       "        160,  29,   0,   0,   0,   0,   0,   0,   0,   0,   0,   0,   0,\n",
       "          0,   0],\n",
       "       [  0,   0,   0,   0,   0,   0,   0,   0,   0,   0,  70, 247, 253,\n",
       "         92,   0,   0,   0,   0,   0,   0,   0,   0,   0,   0,   0,   0,\n",
       "          0,   0],\n",
       "       [  0,   0,   0,   0,   0,   0,   0,   0,   0,   0, 189, 253, 114,\n",
       "          2,   0,   0,   0,   0,   0,   0,   0,   0,   0,   0,   0,   0,\n",
       "          0,   0],\n",
       "       [  0,   0,   0,   0,   0,   0,   0,   0,   0,   0, 206, 253,  24,\n",
       "          0,   0,   0,   0,   0,   0,   0,   0,   0,   0,   0,   0,   0,\n",
       "          0,   0],\n",
       "       [  0,   0,   0,   0,   0,   0,   0,   0,   0,   0, 206, 253,  24,\n",
       "          0,   0,   0,   0,   0,   0,   0,   0,   0,   0,   0,   0,   0,\n",
       "          0,   0],\n",
       "       [  0,   0,   0,   0,   0,   0,   0,   0,   0,   0,   0,   0,   0,\n",
       "          0,   0,   0,   0,   0,   0,   0,   0,   0,   0,   0,   0,   0,\n",
       "          0,   0]], dtype=uint8)"
      ]
     },
     "execution_count": 38,
     "metadata": {},
     "output_type": "execute_result"
    }
   ],
   "source": [
    "X_train[103]"
   ]
  },
  {
   "cell_type": "code",
   "execution_count": 14,
   "id": "ea19efb4",
   "metadata": {
    "colab": {
     "base_uri": "https://localhost:8080/",
     "height": 300
    },
    "id": "ea19efb4",
    "outputId": "d55e195f-1d03-46b2-ba7a-ce0970e15dca"
   },
   "outputs": [
    {
     "name": "stdout",
     "output_type": "stream",
     "text": [
      "7\n"
     ]
    },
    {
     "data": {
      "text/plain": [
       "<matplotlib.image.AxesImage at 0x7f63906bf460>"
      ]
     },
     "execution_count": 14,
     "metadata": {},
     "output_type": "execute_result"
    },
    {
     "data": {
      "image/png": "[encoded data removed]",
      "text/plain": [
       "<Figure size 432x288 with 1 Axes>"
      ]
     },
     "metadata": {
      "needs_background": "light"
     },
     "output_type": "display_data"
    }
   ],
   "source": [
    "print(Y_train[103])\n",
    "plt.imshow(X_train[103])"
   ]
  },
  {
   "cell_type": "code",
   "execution_count": 39,
   "id": "f19e086f",
   "metadata": {
    "colab": {
     "base_uri": "https://localhost:8080/"
    },
    "id": "f19e086f",
    "outputId": "e913f969-dabe-4000-9f36-a10f6d0c59f0"
   },
   "outputs": [
    {
     "data": {
      "text/plain": [
       "array([[  0,   0,   0,   0,   0,   0,   0,   0,   0,   0,   0,   0,   0,\n",
       "          0,   0,   0,   0,   0,   0,   0,   0,   0,   0,   0,   0,   0,\n",
       "          0,   0],\n",
       "       [  0,   0,   0,   0,   0,   0,   0,   0,   0,   0,   0,   0,   0,\n",
       "          0,   0,   0,   0,   0,   0,   0,   0,   0,   0,   0,   0,   0,\n",
       "          0,   0],\n",
       "       [  0,   0,   0,   0,   0,   0,   0,   0,   0,   0,   0,   0,   0,\n",
       "          0,   0,   0,   0,   0,   0,   0,   0,   0,   0,   0,   0,   0,\n",
       "          0,   0],\n",
       "       [  0,   0,   0,   0,   0,   0,   0,   0,   0,   0,   0,   0,   0,\n",
       "          0,   0,   0,   0,   0,   0,   0,   0,   0,   0,   0,   0,   0,\n",
       "          0,   0],\n",
       "       [  0,   0,   0,   0,   0,   0,   0,   0,   0,   0,   0,   0,   0,\n",
       "          0,   0,   0,   0,   0,   0,   0,   0,   0,   0,   0,   0,   0,\n",
       "          0,   0],\n",
       "       [  0,   0,   0,   0,   0,   0,   0,   0,   0,   0,   0,   0,   0,\n",
       "          0,   0,   0,   0,   0,   0,   0,   0,   0,   0,   0,   0,   0,\n",
       "          0,   0],\n",
       "       [  0,   0,   0,   0,   0,   0,   0,   0,   0,   0,   0,   0,   0,\n",
       "          0,   0,   0,   0,   0,   0,   0,   0,   0,   0,   0,   0,   0,\n",
       "          0,   0],\n",
       "       [  0,   0,   0,   0,   0,   0,   0,   0,   0,   0,   0,   0,   0,\n",
       "          0,   0,   0,   0,   0,   0,   3,   7,   7,   4,   0,   0,   0,\n",
       "          0,   0],\n",
       "       [  0,   0,   0,   0,   0,   0,   0,   0,   0,   0,   0,   0,   0,\n",
       "          0,   0,   4,  13, 120, 137, 186, 254, 254, 136,   0,   0,   0,\n",
       "          0,   0],\n",
       "       [  0,   0,   0,   0,   0,   0,   0,   0,   0,   0,   0,   0,   5,\n",
       "         53, 143, 179, 254, 254, 254, 255, 254, 254, 193,   0,   0,   0,\n",
       "          0,   0],\n",
       "       [  0,   0,   0,   0,   0,   0,   0,   0,   4,  25,  50, 149, 175,\n",
       "        254, 254, 254, 254, 254, 254, 255, 254, 254, 108,   0,   0,   0,\n",
       "          0,   0],\n",
       "       [  0,   0,   0,   0,   0,   0,   0,  96, 170, 254, 254, 254, 254,\n",
       "        254, 245, 183,  99,  99, 147, 252, 254, 196,   3,   0,   0,   0,\n",
       "          0,   0],\n",
       "       [  0,   0,   0,   4, 145, 162, 162, 219, 254, 254, 254, 246, 186,\n",
       "         93,  66,   0,   0,   0, 125, 246, 254, 119,   2,   0,   0,   0,\n",
       "          0,   0],\n",
       "       [  0,   0,   0,  87, 215, 254, 254, 254, 254, 204,  87,  68,   0,\n",
       "          0,   0,   0,   0,  46, 197, 254, 180,  47,   0,   0,   0,   0,\n",
       "          0,   0],\n",
       "       [  0,   0,   0, 168, 254, 156,  80,  80,  80,  28,   0,   0,   0,\n",
       "          0,   0,   0,   0, 126, 245, 255,  57,   0,   0,   0,   0,   0,\n",
       "          0,   0],\n",
       "       [  0,   0,   0,   2,  74,  33,   0,   0,   0,   0,   0,   0,   0,\n",
       "          0,   0,   0,  43, 200, 254,  91,   6,   0,   0,   0,   0,   0,\n",
       "          0,   0],\n",
       "       [  0,   0,   0,   0,   0,   0,   0,   0,   0,   0,   0,   0,   0,\n",
       "          0,   0,   0, 156, 245, 205,  13,   0,   0,   0,   0,   0,   0,\n",
       "          0,   0],\n",
       "       [  0,   0,   0,   0,   0,   0,   0,   0,   0,   0,   0,   0,   0,\n",
       "          0,   0, 124, 244, 254,  85,   6,   0,   0,   0,   0,   0,   0,\n",
       "          0,   0],\n",
       "       [  0,   0,   0,   0,   0,   0,   0,   0,   0,   0,   0,   0,   0,\n",
       "          0,  59, 217, 254, 121,   7,   0,   0,   0,   0,   0,   0,   0,\n",
       "          0,   0],\n",
       "       [  0,   0,   0,   0,   0,   0,   0,   0,   0,   0,   0,   0,   0,\n",
       "          0, 176, 254, 254,  61,   0,   0,   0,   0,   0,   0,   0,   0,\n",
       "          0,   0],\n",
       "       [  0,   0,   0,   0,   0,   0,   0,   0,   0,   0,   0,   0,   0,\n",
       "        161, 245, 215,  58,   7,   0,   0,   0,   0,   0,   0,   0,   0,\n",
       "          0,   0],\n",
       "       [  0,   0,   0,   0,   0,   0,   0,   0,   0,   0,   0,   0,  54,\n",
       "        246, 254, 185,   7,   0,   0,   0,   0,   0,   0,   0,   0,   0,\n",
       "          0,   0],\n",
       "       [  0,   0,   0,   0,   0,   0,   0,   0,   0,   0,   0,   0, 124,\n",
       "        254, 254,  64,   0,   0,   0,   0,   0,   0,   0,   0,   0,   0,\n",
       "          0,   0],\n",
       "       [  0,   0,   0,   0,   0,   0,   0,   0,   0,   0,   0,  52, 237,\n",
       "        254, 126,   5,   0,   0,   0,   0,   0,   0,   0,   0,   0,   0,\n",
       "          0,   0],\n",
       "       [  0,   0,   0,   0,   0,   0,   0,   0,   0,   0,   0, 118, 254,\n",
       "        254, 119,   0,   0,   0,   0,   0,   0,   0,   0,   0,   0,   0,\n",
       "          0,   0],\n",
       "       [  0,   0,   0,   0,   0,   0,   0,   0,   0,   0,   0, 118, 254,\n",
       "        254,  61,   0,   0,   0,   0,   0,   0,   0,   0,   0,   0,   0,\n",
       "          0,   0],\n",
       "       [  0,   0,   0,   0,   0,   0,   0,   0,   0,   0,   0,   2,   6,\n",
       "          6,   2,   0,   0,   0,   0,   0,   0,   0,   0,   0,   0,   0,\n",
       "          0,   0],\n",
       "       [  0,   0,   0,   0,   0,   0,   0,   0,   0,   0,   0,   0,   0,\n",
       "          0,   0,   0,   0,   0,   0,   0,   0,   0,   0,   0,   0,   0,\n",
       "          0,   0]], dtype=uint8)"
      ]
     },
     "execution_count": 39,
     "metadata": {},
     "output_type": "execute_result"
    }
   ],
   "source": [
    "X_train[101]"
   ]
  },
  {
   "cell_type": "code",
   "execution_count": null,
   "id": "407aa697",
   "metadata": {
    "id": "407aa697"
   },
   "outputs": [],
   "source": []
  },
  {
   "cell_type": "code",
   "execution_count": 40,
   "id": "7a4c91db",
   "metadata": {
    "colab": {
     "base_uri": "https://localhost:8080/",
     "height": 300
    },
    "id": "7a4c91db",
    "outputId": "15d8e52c-4386-4fb0-f99e-fd47d0ef7890"
   },
   "outputs": [
    {
     "name": "stdout",
     "output_type": "stream",
     "text": [
      "1\n"
     ]
    },
    {
     "data": {
      "text/plain": [
       "<matplotlib.image.AxesImage at 0x7f6390cf4dc0>"
      ]
     },
     "execution_count": 40,
     "metadata": {},
     "output_type": "execute_result"
    },
    {
     "data": {
      "image/png": "[encoded data removed]",
      "text/plain": [
       "<Figure size 432x288 with 1 Axes>"
      ]
     },
     "metadata": {
      "needs_background": "light"
     },
     "output_type": "display_data"
    }
   ],
   "source": [
    "print(Y_train[200])\n",
    "plt.imshow(X_train[200])"
   ]
  },
  {
   "cell_type": "markdown",
   "id": "9QuGEurwpmo1",
   "metadata": {
    "id": "9QuGEurwpmo1"
   },
   "source": [
    "## **Reshaping the data**"
   ]
  },
  {
   "cell_type": "code",
   "execution_count": 41,
   "id": "0d7a7283",
   "metadata": {
    "colab": {
     "base_uri": "https://localhost:8080/"
    },
    "id": "0d7a7283",
    "outputId": "89dc5837-afd8-43ca-87cd-983dd482d45e"
   },
   "outputs": [
    {
     "data": {
      "text/plain": [
       "array([[[  0.],\n",
       "        [  0.],\n",
       "        [  0.],\n",
       "        [  0.],\n",
       "        [  0.],\n",
       "        [  0.],\n",
       "        [  0.],\n",
       "        [  0.],\n",
       "        [  0.],\n",
       "        [  0.],\n",
       "        [  0.],\n",
       "        [  0.],\n",
       "        [  0.],\n",
       "        [  0.],\n",
       "        [  0.],\n",
       "        [  0.],\n",
       "        [  0.],\n",
       "        [  0.],\n",
       "        [  0.],\n",
       "        [  0.],\n",
       "        [  0.],\n",
       "        [  0.],\n",
       "        [  0.],\n",
       "        [  0.],\n",
       "        [  0.],\n",
       "        [  0.],\n",
       "        [  0.],\n",
       "        [  0.]],\n",
       "\n",
       "       [[  0.],\n",
       "        [  0.],\n",
       "        [  0.],\n",
       "        [  0.],\n",
       "        [  0.],\n",
       "        [  0.],\n",
       "        [  0.],\n",
       "        [  0.],\n",
       "        [  0.],\n",
       "        [  0.],\n",
       "        [  0.],\n",
       "        [  0.],\n",
       "        [  0.],\n",
       "        [  0.],\n",
       "        [  0.],\n",
       "        [  0.],\n",
       "        [  0.],\n",
       "        [  0.],\n",
       "        [  0.],\n",
       "        [  0.],\n",
       "        [  0.],\n",
       "        [  0.],\n",
       "        [  0.],\n",
       "        [  0.],\n",
       "        [  0.],\n",
       "        [  0.],\n",
       "        [  0.],\n",
       "        [  0.]],\n",
       "\n",
       "       [[  0.],\n",
       "        [  0.],\n",
       "        [  0.],\n",
       "        [  0.],\n",
       "        [  0.],\n",
       "        [  0.],\n",
       "        [  0.],\n",
       "        [  0.],\n",
       "        [  0.],\n",
       "        [  0.],\n",
       "        [  0.],\n",
       "        [  0.],\n",
       "        [  0.],\n",
       "        [  0.],\n",
       "        [  0.],\n",
       "        [  0.],\n",
       "        [  0.],\n",
       "        [  0.],\n",
       "        [  0.],\n",
       "        [  0.],\n",
       "        [  0.],\n",
       "        [  0.],\n",
       "        [  0.],\n",
       "        [  0.],\n",
       "        [  0.],\n",
       "        [  0.],\n",
       "        [  0.],\n",
       "        [  0.]],\n",
       "\n",
       "       [[  0.],\n",
       "        [  0.],\n",
       "        [  0.],\n",
       "        [  0.],\n",
       "        [  0.],\n",
       "        [  0.],\n",
       "        [  0.],\n",
       "        [  0.],\n",
       "        [  0.],\n",
       "        [  0.],\n",
       "        [  0.],\n",
       "        [  0.],\n",
       "        [  0.],\n",
       "        [  0.],\n",
       "        [  0.],\n",
       "        [  0.],\n",
       "        [  0.],\n",
       "        [  0.],\n",
       "        [  0.],\n",
       "        [  0.],\n",
       "        [  0.],\n",
       "        [  0.],\n",
       "        [  0.],\n",
       "        [  0.],\n",
       "        [  0.],\n",
       "        [  0.],\n",
       "        [  0.],\n",
       "        [  0.]],\n",
       "\n",
       "       [[  0.],\n",
       "        [  0.],\n",
       "        [  0.],\n",
       "        [  0.],\n",
       "        [  0.],\n",
       "        [  0.],\n",
       "        [  0.],\n",
       "        [  0.],\n",
       "        [  0.],\n",
       "        [  0.],\n",
       "        [  0.],\n",
       "        [  0.],\n",
       "        [  0.],\n",
       "        [  0.],\n",
       "        [  0.],\n",
       "        [  0.],\n",
       "        [  0.],\n",
       "        [  0.],\n",
       "        [  0.],\n",
       "        [  0.],\n",
       "        [  0.],\n",
       "        [  0.],\n",
       "        [  0.],\n",
       "        [  0.],\n",
       "        [  0.],\n",
       "        [  0.],\n",
       "        [  0.],\n",
       "        [  0.]],\n",
       "\n",
       "       [[  0.],\n",
       "        [  0.],\n",
       "        [  0.],\n",
       "        [  0.],\n",
       "        [  0.],\n",
       "        [  0.],\n",
       "        [  0.],\n",
       "        [  0.],\n",
       "        [  0.],\n",
       "        [  0.],\n",
       "        [  0.],\n",
       "        [  0.],\n",
       "        [  3.],\n",
       "        [ 18.],\n",
       "        [ 18.],\n",
       "        [ 18.],\n",
       "        [126.],\n",
       "        [136.],\n",
       "        [175.],\n",
       "        [ 26.],\n",
       "        [166.],\n",
       "        [255.],\n",
       "        [247.],\n",
       "        [127.],\n",
       "        [  0.],\n",
       "        [  0.],\n",
       "        [  0.],\n",
       "        [  0.]],\n",
       "\n",
       "       [[  0.],\n",
       "        [  0.],\n",
       "        [  0.],\n",
       "        [  0.],\n",
       "        [  0.],\n",
       "        [  0.],\n",
       "        [  0.],\n",
       "        [  0.],\n",
       "        [ 30.],\n",
       "        [ 36.],\n",
       "        [ 94.],\n",
       "        [154.],\n",
       "        [170.],\n",
       "        [253.],\n",
       "        [253.],\n",
       "        [253.],\n",
       "        [253.],\n",
       "        [253.],\n",
       "        [225.],\n",
       "        [172.],\n",
       "        [253.],\n",
       "        [242.],\n",
       "        [195.],\n",
       "        [ 64.],\n",
       "        [  0.],\n",
       "        [  0.],\n",
       "        [  0.],\n",
       "        [  0.]],\n",
       "\n",
       "       [[  0.],\n",
       "        [  0.],\n",
       "        [  0.],\n",
       "        [  0.],\n",
       "        [  0.],\n",
       "        [  0.],\n",
       "        [  0.],\n",
       "        [ 49.],\n",
       "        [238.],\n",
       "        [253.],\n",
       "        [253.],\n",
       "        [253.],\n",
       "        [253.],\n",
       "        [253.],\n",
       "        [253.],\n",
       "        [253.],\n",
       "        [253.],\n",
       "        [251.],\n",
       "        [ 93.],\n",
       "        [ 82.],\n",
       "        [ 82.],\n",
       "        [ 56.],\n",
       "        [ 39.],\n",
       "        [  0.],\n",
       "        [  0.],\n",
       "        [  0.],\n",
       "        [  0.],\n",
       "        [  0.]],\n",
       "\n",
       "       [[  0.],\n",
       "        [  0.],\n",
       "        [  0.],\n",
       "        [  0.],\n",
       "        [  0.],\n",
       "        [  0.],\n",
       "        [  0.],\n",
       "        [ 18.],\n",
       "        [219.],\n",
       "        [253.],\n",
       "        [253.],\n",
       "        [253.],\n",
       "        [253.],\n",
       "        [253.],\n",
       "        [198.],\n",
       "        [182.],\n",
       "        [247.],\n",
       "        [241.],\n",
       "        [  0.],\n",
       "        [  0.],\n",
       "        [  0.],\n",
       "        [  0.],\n",
       "        [  0.],\n",
       "        [  0.],\n",
       "        [  0.],\n",
       "        [  0.],\n",
       "        [  0.],\n",
       "        [  0.]],\n",
       "\n",
       "       [[  0.],\n",
       "        [  0.],\n",
       "        [  0.],\n",
       "        [  0.],\n",
       "        [  0.],\n",
       "        [  0.],\n",
       "        [  0.],\n",
       "        [  0.],\n",
       "        [ 80.],\n",
       "        [156.],\n",
       "        [107.],\n",
       "        [253.],\n",
       "        [253.],\n",
       "        [205.],\n",
       "        [ 11.],\n",
       "        [  0.],\n",
       "        [ 43.],\n",
       "        [154.],\n",
       "        [  0.],\n",
       "        [  0.],\n",
       "        [  0.],\n",
       "        [  0.],\n",
       "        [  0.],\n",
       "        [  0.],\n",
       "        [  0.],\n",
       "        [  0.],\n",
       "        [  0.],\n",
       "        [  0.]],\n",
       "\n",
       "       [[  0.],\n",
       "        [  0.],\n",
       "        [  0.],\n",
       "        [  0.],\n",
       "        [  0.],\n",
       "        [  0.],\n",
       "        [  0.],\n",
       "        [  0.],\n",
       "        [  0.],\n",
       "        [ 14.],\n",
       "        [  1.],\n",
       "        [154.],\n",
       "        [253.],\n",
       "        [ 90.],\n",
       "        [  0.],\n",
       "        [  0.],\n",
       "        [  0.],\n",
       "        [  0.],\n",
       "        [  0.],\n",
       "        [  0.],\n",
       "        [  0.],\n",
       "        [  0.],\n",
       "        [  0.],\n",
       "        [  0.],\n",
       "        [  0.],\n",
       "        [  0.],\n",
       "        [  0.],\n",
       "        [  0.]],\n",
       "\n",
       "       [[  0.],\n",
       "        [  0.],\n",
       "        [  0.],\n",
       "        [  0.],\n",
       "        [  0.],\n",
       "        [  0.],\n",
       "        [  0.],\n",
       "        [  0.],\n",
       "        [  0.],\n",
       "        [  0.],\n",
       "        [  0.],\n",
       "        [139.],\n",
       "        [253.],\n",
       "        [190.],\n",
       "        [  2.],\n",
       "        [  0.],\n",
       "        [  0.],\n",
       "        [  0.],\n",
       "        [  0.],\n",
       "        [  0.],\n",
       "        [  0.],\n",
       "        [  0.],\n",
       "        [  0.],\n",
       "        [  0.],\n",
       "        [  0.],\n",
       "        [  0.],\n",
       "        [  0.],\n",
       "        [  0.]],\n",
       "\n",
       "       [[  0.],\n",
       "        [  0.],\n",
       "        [  0.],\n",
       "        [  0.],\n",
       "        [  0.],\n",
       "        [  0.],\n",
       "        [  0.],\n",
       "        [  0.],\n",
       "        [  0.],\n",
       "        [  0.],\n",
       "        [  0.],\n",
       "        [ 11.],\n",
       "        [190.],\n",
       "        [253.],\n",
       "        [ 70.],\n",
       "        [  0.],\n",
       "        [  0.],\n",
       "        [  0.],\n",
       "        [  0.],\n",
       "        [  0.],\n",
       "        [  0.],\n",
       "        [  0.],\n",
       "        [  0.],\n",
       "        [  0.],\n",
       "        [  0.],\n",
       "        [  0.],\n",
       "        [  0.],\n",
       "        [  0.]],\n",
       "\n",
       "       [[  0.],\n",
       "        [  0.],\n",
       "        [  0.],\n",
       "        [  0.],\n",
       "        [  0.],\n",
       "        [  0.],\n",
       "        [  0.],\n",
       "        [  0.],\n",
       "        [  0.],\n",
       "        [  0.],\n",
       "        [  0.],\n",
       "        [  0.],\n",
       "        [ 35.],\n",
       "        [241.],\n",
       "        [225.],\n",
       "        [160.],\n",
       "        [108.],\n",
       "        [  1.],\n",
       "        [  0.],\n",
       "        [  0.],\n",
       "        [  0.],\n",
       "        [  0.],\n",
       "        [  0.],\n",
       "        [  0.],\n",
       "        [  0.],\n",
       "        [  0.],\n",
       "        [  0.],\n",
       "        [  0.]],\n",
       "\n",
       "       [[  0.],\n",
       "        [  0.],\n",
       "        [  0.],\n",
       "        [  0.],\n",
       "        [  0.],\n",
       "        [  0.],\n",
       "        [  0.],\n",
       "        [  0.],\n",
       "        [  0.],\n",
       "        [  0.],\n",
       "        [  0.],\n",
       "        [  0.],\n",
       "        [  0.],\n",
       "        [ 81.],\n",
       "        [240.],\n",
       "        [253.],\n",
       "        [253.],\n",
       "        [119.],\n",
       "        [ 25.],\n",
       "        [  0.],\n",
       "        [  0.],\n",
       "        [  0.],\n",
       "        [  0.],\n",
       "        [  0.],\n",
       "        [  0.],\n",
       "        [  0.],\n",
       "        [  0.],\n",
       "        [  0.]],\n",
       "\n",
       "       [[  0.],\n",
       "        [  0.],\n",
       "        [  0.],\n",
       "        [  0.],\n",
       "        [  0.],\n",
       "        [  0.],\n",
       "        [  0.],\n",
       "        [  0.],\n",
       "        [  0.],\n",
       "        [  0.],\n",
       "        [  0.],\n",
       "        [  0.],\n",
       "        [  0.],\n",
       "        [  0.],\n",
       "        [ 45.],\n",
       "        [186.],\n",
       "        [253.],\n",
       "        [253.],\n",
       "        [150.],\n",
       "        [ 27.],\n",
       "        [  0.],\n",
       "        [  0.],\n",
       "        [  0.],\n",
       "        [  0.],\n",
       "        [  0.],\n",
       "        [  0.],\n",
       "        [  0.],\n",
       "        [  0.]],\n",
       "\n",
       "       [[  0.],\n",
       "        [  0.],\n",
       "        [  0.],\n",
       "        [  0.],\n",
       "        [  0.],\n",
       "        [  0.],\n",
       "        [  0.],\n",
       "        [  0.],\n",
       "        [  0.],\n",
       "        [  0.],\n",
       "        [  0.],\n",
       "        [  0.],\n",
       "        [  0.],\n",
       "        [  0.],\n",
       "        [  0.],\n",
       "        [ 16.],\n",
       "        [ 93.],\n",
       "        [252.],\n",
       "        [253.],\n",
       "        [187.],\n",
       "        [  0.],\n",
       "        [  0.],\n",
       "        [  0.],\n",
       "        [  0.],\n",
       "        [  0.],\n",
       "        [  0.],\n",
       "        [  0.],\n",
       "        [  0.]],\n",
       "\n",
       "       [[  0.],\n",
       "        [  0.],\n",
       "        [  0.],\n",
       "        [  0.],\n",
       "        [  0.],\n",
       "        [  0.],\n",
       "        [  0.],\n",
       "        [  0.],\n",
       "        [  0.],\n",
       "        [  0.],\n",
       "        [  0.],\n",
       "        [  0.],\n",
       "        [  0.],\n",
       "        [  0.],\n",
       "        [  0.],\n",
       "        [  0.],\n",
       "        [  0.],\n",
       "        [249.],\n",
       "        [253.],\n",
       "        [249.],\n",
       "        [ 64.],\n",
       "        [  0.],\n",
       "        [  0.],\n",
       "        [  0.],\n",
       "        [  0.],\n",
       "        [  0.],\n",
       "        [  0.],\n",
       "        [  0.]],\n",
       "\n",
       "       [[  0.],\n",
       "        [  0.],\n",
       "        [  0.],\n",
       "        [  0.],\n",
       "        [  0.],\n",
       "        [  0.],\n",
       "        [  0.],\n",
       "        [  0.],\n",
       "        [  0.],\n",
       "        [  0.],\n",
       "        [  0.],\n",
       "        [  0.],\n",
       "        [  0.],\n",
       "        [  0.],\n",
       "        [ 46.],\n",
       "        [130.],\n",
       "        [183.],\n",
       "        [253.],\n",
       "        [253.],\n",
       "        [207.],\n",
       "        [  2.],\n",
       "        [  0.],\n",
       "        [  0.],\n",
       "        [  0.],\n",
       "        [  0.],\n",
       "        [  0.],\n",
       "        [  0.],\n",
       "        [  0.]],\n",
       "\n",
       "       [[  0.],\n",
       "        [  0.],\n",
       "        [  0.],\n",
       "        [  0.],\n",
       "        [  0.],\n",
       "        [  0.],\n",
       "        [  0.],\n",
       "        [  0.],\n",
       "        [  0.],\n",
       "        [  0.],\n",
       "        [  0.],\n",
       "        [  0.],\n",
       "        [ 39.],\n",
       "        [148.],\n",
       "        [229.],\n",
       "        [253.],\n",
       "        [253.],\n",
       "        [253.],\n",
       "        [250.],\n",
       "        [182.],\n",
       "        [  0.],\n",
       "        [  0.],\n",
       "        [  0.],\n",
       "        [  0.],\n",
       "        [  0.],\n",
       "        [  0.],\n",
       "        [  0.],\n",
       "        [  0.]],\n",
       "\n",
       "       [[  0.],\n",
       "        [  0.],\n",
       "        [  0.],\n",
       "        [  0.],\n",
       "        [  0.],\n",
       "        [  0.],\n",
       "        [  0.],\n",
       "        [  0.],\n",
       "        [  0.],\n",
       "        [  0.],\n",
       "        [ 24.],\n",
       "        [114.],\n",
       "        [221.],\n",
       "        [253.],\n",
       "        [253.],\n",
       "        [253.],\n",
       "        [253.],\n",
       "        [201.],\n",
       "        [ 78.],\n",
       "        [  0.],\n",
       "        [  0.],\n",
       "        [  0.],\n",
       "        [  0.],\n",
       "        [  0.],\n",
       "        [  0.],\n",
       "        [  0.],\n",
       "        [  0.],\n",
       "        [  0.]],\n",
       "\n",
       "       [[  0.],\n",
       "        [  0.],\n",
       "        [  0.],\n",
       "        [  0.],\n",
       "        [  0.],\n",
       "        [  0.],\n",
       "        [  0.],\n",
       "        [  0.],\n",
       "        [ 23.],\n",
       "        [ 66.],\n",
       "        [213.],\n",
       "        [253.],\n",
       "        [253.],\n",
       "        [253.],\n",
       "        [253.],\n",
       "        [198.],\n",
       "        [ 81.],\n",
       "        [  2.],\n",
       "        [  0.],\n",
       "        [  0.],\n",
       "        [  0.],\n",
       "        [  0.],\n",
       "        [  0.],\n",
       "        [  0.],\n",
       "        [  0.],\n",
       "        [  0.],\n",
       "        [  0.],\n",
       "        [  0.]],\n",
       "\n",
       "       [[  0.],\n",
       "        [  0.],\n",
       "        [  0.],\n",
       "        [  0.],\n",
       "        [  0.],\n",
       "        [  0.],\n",
       "        [ 18.],\n",
       "        [171.],\n",
       "        [219.],\n",
       "        [253.],\n",
       "        [253.],\n",
       "        [253.],\n",
       "        [253.],\n",
       "        [195.],\n",
       "        [ 80.],\n",
       "        [  9.],\n",
       "        [  0.],\n",
       "        [  0.],\n",
       "        [  0.],\n",
       "        [  0.],\n",
       "        [  0.],\n",
       "        [  0.],\n",
       "        [  0.],\n",
       "        [  0.],\n",
       "        [  0.],\n",
       "        [  0.],\n",
       "        [  0.],\n",
       "        [  0.]],\n",
       "\n",
       "       [[  0.],\n",
       "        [  0.],\n",
       "        [  0.],\n",
       "        [  0.],\n",
       "        [ 55.],\n",
       "        [172.],\n",
       "        [226.],\n",
       "        [253.],\n",
       "        [253.],\n",
       "        [253.],\n",
       "        [253.],\n",
       "        [244.],\n",
       "        [133.],\n",
       "        [ 11.],\n",
       "        [  0.],\n",
       "        [  0.],\n",
       "        [  0.],\n",
       "        [  0.],\n",
       "        [  0.],\n",
       "        [  0.],\n",
       "        [  0.],\n",
       "        [  0.],\n",
       "        [  0.],\n",
       "        [  0.],\n",
       "        [  0.],\n",
       "        [  0.],\n",
       "        [  0.],\n",
       "        [  0.]],\n",
       "\n",
       "       [[  0.],\n",
       "        [  0.],\n",
       "        [  0.],\n",
       "        [  0.],\n",
       "        [136.],\n",
       "        [253.],\n",
       "        [253.],\n",
       "        [253.],\n",
       "        [212.],\n",
       "        [135.],\n",
       "        [132.],\n",
       "        [ 16.],\n",
       "        [  0.],\n",
       "        [  0.],\n",
       "        [  0.],\n",
       "        [  0.],\n",
       "        [  0.],\n",
       "        [  0.],\n",
       "        [  0.],\n",
       "        [  0.],\n",
       "        [  0.],\n",
       "        [  0.],\n",
       "        [  0.],\n",
       "        [  0.],\n",
       "        [  0.],\n",
       "        [  0.],\n",
       "        [  0.],\n",
       "        [  0.]],\n",
       "\n",
       "       [[  0.],\n",
       "        [  0.],\n",
       "        [  0.],\n",
       "        [  0.],\n",
       "        [  0.],\n",
       "        [  0.],\n",
       "        [  0.],\n",
       "        [  0.],\n",
       "        [  0.],\n",
       "        [  0.],\n",
       "        [  0.],\n",
       "        [  0.],\n",
       "        [  0.],\n",
       "        [  0.],\n",
       "        [  0.],\n",
       "        [  0.],\n",
       "        [  0.],\n",
       "        [  0.],\n",
       "        [  0.],\n",
       "        [  0.],\n",
       "        [  0.],\n",
       "        [  0.],\n",
       "        [  0.],\n",
       "        [  0.],\n",
       "        [  0.],\n",
       "        [  0.],\n",
       "        [  0.],\n",
       "        [  0.]],\n",
       "\n",
       "       [[  0.],\n",
       "        [  0.],\n",
       "        [  0.],\n",
       "        [  0.],\n",
       "        [  0.],\n",
       "        [  0.],\n",
       "        [  0.],\n",
       "        [  0.],\n",
       "        [  0.],\n",
       "        [  0.],\n",
       "        [  0.],\n",
       "        [  0.],\n",
       "        [  0.],\n",
       "        [  0.],\n",
       "        [  0.],\n",
       "        [  0.],\n",
       "        [  0.],\n",
       "        [  0.],\n",
       "        [  0.],\n",
       "        [  0.],\n",
       "        [  0.],\n",
       "        [  0.],\n",
       "        [  0.],\n",
       "        [  0.],\n",
       "        [  0.],\n",
       "        [  0.],\n",
       "        [  0.],\n",
       "        [  0.]],\n",
       "\n",
       "       [[  0.],\n",
       "        [  0.],\n",
       "        [  0.],\n",
       "        [  0.],\n",
       "        [  0.],\n",
       "        [  0.],\n",
       "        [  0.],\n",
       "        [  0.],\n",
       "        [  0.],\n",
       "        [  0.],\n",
       "        [  0.],\n",
       "        [  0.],\n",
       "        [  0.],\n",
       "        [  0.],\n",
       "        [  0.],\n",
       "        [  0.],\n",
       "        [  0.],\n",
       "        [  0.],\n",
       "        [  0.],\n",
       "        [  0.],\n",
       "        [  0.],\n",
       "        [  0.],\n",
       "        [  0.],\n",
       "        [  0.],\n",
       "        [  0.],\n",
       "        [  0.],\n",
       "        [  0.],\n",
       "        [  0.]]], dtype=float32)"
      ]
     },
     "execution_count": 41,
     "metadata": {},
     "output_type": "execute_result"
    }
   ],
   "source": [
    "X_train = X_train.reshape(60000,28,28,1).astype('float32')\n",
    "X_test = X_test.reshape(10000,28,28,1).astype('float32')\n",
    "X_train[0]"
   ]
  },
  {
   "cell_type": "markdown",
   "id": "kjHpIYFgpZsW",
   "metadata": {
    "id": "kjHpIYFgpZsW"
   },
   "source": [
    "### **Applying One Hot Encoding**"
   ]
  },
  {
   "cell_type": "code",
   "execution_count": 43,
   "id": "a2ea4c69",
   "metadata": {
    "id": "a2ea4c69"
   },
   "outputs": [],
   "source": [
    "from keras.utils import np_utils\n",
    "num_classes=10\n",
    "Y_train=np_utils.to_categorical(Y_train,num_classes)\n",
    "Y_test=np_utils.to_categorical(Y_test,num_classes)"
   ]
  },
  {
   "cell_type": "markdown",
   "id": "3NONLMiuqNlZ",
   "metadata": {
    "id": "3NONLMiuqNlZ"
   },
   "source": [
    "# **Model Building**"
   ]
  },
  {
   "cell_type": "markdown",
   "id": "gxD0b0XdqbI1",
   "metadata": {
    "id": "gxD0b0XdqbI1"
   },
   "source": [
    "### **Add CNN Layers**"
   ]
  },
  {
   "cell_type": "code",
   "execution_count": 44,
   "id": "71655fa4",
   "metadata": {
    "id": "71655fa4"
   },
   "outputs": [],
   "source": [
    "from tensorflow.keras.models import Sequential\n",
    "from tensorflow.keras.layers import Convolution2D,MaxPooling2D,Flatten,Dense\n",
    "model = Sequential()\n",
    "model.add(Convolution2D(64, (3,3), input_shape=(28,28,1),activation='relu'))\n",
    "model.add(Convolution2D(32,(3,3),activation='relu'))\n",
    "model.add(Flatten())\n",
    "model.add(Dense(num_classes, activation='softmax'))"
   ]
  },
  {
   "cell_type": "code",
   "execution_count": null,
   "id": "c875c34d",
   "metadata": {},
   "outputs": [],
   "source": []
  },
  {
   "cell_type": "code",
   "execution_count": null,
   "id": "6ceaa64e",
   "metadata": {},
   "outputs": [],
   "source": []
  },
  {
   "cell_type": "markdown",
   "id": "DwA6w6uSqqtV",
   "metadata": {
    "id": "DwA6w6uSqqtV"
   },
   "source": [
    "### **Compiling the model**"
   ]
  },
  {
   "cell_type": "code",
   "execution_count": 46,
   "id": "6e8f1a7e",
   "metadata": {
    "id": "6e8f1a7e"
   },
   "outputs": [],
   "source": [
    "model.compile(optimizer='adam',loss='categorical_crossentropy',metrics=['accuracy'])"
   ]
  },
  {
   "cell_type": "markdown",
   "id": "Z9yoV0QbqzmD",
   "metadata": {
    "id": "Z9yoV0QbqzmD"
   },
   "source": [
    "####Training the model"
   ]
  },
  {
   "cell_type": "code",
   "execution_count": 47,
   "id": "18c12adf",
   "metadata": {
    "colab": {
     "base_uri": "https://localhost:8080/"
    },
    "id": "18c12adf",
    "outputId": "a2d82fde-9398-41c4-ec13-a3602c66a65c"
   },
   "outputs": [
    {
     "name": "stdout",
     "output_type": "stream",
     "text": [
      "Epoch 1/5\n",
      "1875/1875 [==============================] - 174s 93ms/step - loss: 0.1905 - accuracy: 0.9564 - val_loss: 0.0950 - val_accuracy: 0.9709\n",
      "Epoch 2/5\n",
      "1875/1875 [==============================] - 172s 92ms/step - loss: 0.0619 - accuracy: 0.9814 - val_loss: 0.0847 - val_accuracy: 0.9743\n",
      "Epoch 3/5\n",
      "1875/1875 [==============================] - 173s 92ms/step - loss: 0.0440 - accuracy: 0.9869 - val_loss: 0.0832 - val_accuracy: 0.9779\n",
      "Epoch 4/5\n",
      "1875/1875 [==============================] - 172s 92ms/step - loss: 0.0356 - accuracy: 0.9895 - val_loss: 0.1051 - val_accuracy: 0.9755\n",
      "Epoch 5/5\n",
      "1875/1875 [==============================] - 172s 92ms/step - loss: 0.0323 - accuracy: 0.9912 - val_loss: 0.1407 - val_accuracy: 0.9739\n"
     ]
    }
   ],
   "source": [
    "model_save=model.fit(X_train,Y_train,batch_size=32,epochs=5,validation_data=(X_test,Y_test))"
   ]
  },
  {
   "cell_type": "code",
   "execution_count": 48,
   "id": "2dd297b5",
   "metadata": {
    "colab": {
     "base_uri": "https://localhost:8080/"
    },
    "id": "2dd297b5",
    "outputId": "773569a7-b49b-436a-e3f0-d60c547a601e"
   },
   "outputs": [
    {
     "name": "stdout",
     "output_type": "stream",
     "text": [
      "Metrics(Test loss & Test Accuracy):\n",
      "[0.14070099592208862, 0.9739000201225281]\n"
     ]
    }
   ],
   "source": [
    "metrics = model.evaluate(X_test, Y_test, verbose=0)\n",
    "print(\"Metrics(Test loss & Test Accuracy):\")\n",
    "print(metrics)"
   ]
  },
  {
   "cell_type": "code",
   "execution_count": 49,
   "id": "32fea6b9",
   "metadata": {
    "colab": {
     "base_uri": "https://localhost:8080/"
    },
    "id": "32fea6b9",
    "outputId": "3f9c6ae3-ec78-4cc4-cfa3-3571abdd764b"
   },
   "outputs": [
    {
     "name": "stdout",
     "output_type": "stream",
     "text": [
      "[[2.7432130e-20 4.9167717e-21 2.1955534e-15 8.5358574e-11 1.8159745e-23\n",
      "  3.2996717e-26 3.8669027e-25 1.0000000e+00 6.1218322e-18 7.5147810e-16]\n",
      " [4.9045676e-17 8.2961117e-16 1.0000000e+00 2.1993759e-15 8.0433015e-21\n",
      "  3.8958065e-24 4.3403076e-11 4.8004704e-23 4.6925968e-15 3.3989617e-20]\n",
      " [1.7488077e-07 9.9999499e-01 2.2243807e-09 3.5117105e-13 1.7949320e-08\n",
      "  2.0249806e-10 4.7749368e-06 1.8611290e-09 2.7893078e-08 1.9678269e-12]\n",
      " [9.9999988e-01 5.9920165e-15 4.2502633e-12 1.4402079e-16 1.7881071e-15\n",
      "  1.3735138e-13 1.7301390e-07 7.5033719e-18 2.5977970e-12 1.0698972e-10]]\n",
      "[7 2 1 0]\n",
      "[[0. 0. 0. 0. 0. 0. 0. 1. 0. 0.]\n",
      " [0. 0. 1. 0. 0. 0. 0. 0. 0. 0.]\n",
      " [0. 1. 0. 0. 0. 0. 0. 0. 0. 0.]\n",
      " [1. 0. 0. 0. 0. 0. 0. 0. 0. 0.]]\n"
     ]
    }
   ],
   "source": [
    "prediction=model.predict(X_test[:4])\n",
    "print(prediction)\n",
    "\n",
    "print(np.argmax(prediction,axis=1))\n",
    "print(Y_test[:4])"
   ]
  },
  {
   "cell_type": "code",
   "execution_count": 50,
   "id": "2937535a",
   "metadata": {
    "colab": {
     "base_uri": "https://localhost:8080/"
    },
    "id": "2937535a",
    "outputId": "c4ae413f-8b07-4640-d5ee-02261bc9d7e6"
   },
   "outputs": [
    {
     "name": "stdout",
     "output_type": "stream",
     "text": [
      "Metrics(Test loss & Test Accuracy):\n",
      "[0.14070099592208862, 0.9739000201225281]\n"
     ]
    }
   ],
   "source": [
    "metrics = model.evaluate(X_test, Y_test, verbose=0)\n",
    "print(\"Metrics(Test loss & Test Accuracy):\")\n",
    "print(metrics)"
   ]
  },
  {
   "cell_type": "code",
   "execution_count": 51,
   "id": "2b6c5cb4",
   "metadata": {
    "colab": {
     "base_uri": "https://localhost:8080/"
    },
    "id": "2b6c5cb4",
    "outputId": "00af5d60-5130-4f59-861e-5d74df538f07"
   },
   "outputs": [
    {
     "name": "stdout",
     "output_type": "stream",
     "text": [
      "[[2.7432130e-20 4.9167717e-21 2.1955534e-15 8.5358574e-11 1.8159745e-23\n",
      "  3.2996717e-26 3.8669027e-25 1.0000000e+00 6.1218322e-18 7.5147810e-16]\n",
      " [4.9045676e-17 8.2961117e-16 1.0000000e+00 2.1993759e-15 8.0433015e-21\n",
      "  3.8958065e-24 4.3403076e-11 4.8004704e-23 4.6925968e-15 3.3989617e-20]\n",
      " [1.7488077e-07 9.9999499e-01 2.2243807e-09 3.5117105e-13 1.7949320e-08\n",
      "  2.0249806e-10 4.7749368e-06 1.8611290e-09 2.7893078e-08 1.9678269e-12]\n",
      " [9.9999988e-01 5.9920165e-15 4.2502633e-12 1.4402079e-16 1.7881071e-15\n",
      "  1.3735138e-13 1.7301390e-07 7.5033719e-18 2.5977970e-12 1.0698972e-10]]\n",
      "[7 2 1 0]\n",
      "[[0. 0. 0. 0. 0. 0. 0. 1. 0. 0.]\n",
      " [0. 0. 1. 0. 0. 0. 0. 0. 0. 0.]\n",
      " [0. 1. 0. 0. 0. 0. 0. 0. 0. 0.]\n",
      " [1. 0. 0. 0. 0. 0. 0. 0. 0. 0.]]\n"
     ]
    }
   ],
   "source": [
    "prediction=model.predict(X_test[:4])\n",
    "print(prediction)\n",
    "print(np.argmax(prediction,axis=1))\n",
    "print(Y_test[:4])"
   ]
  },
  {
   "cell_type": "code",
   "execution_count": 53,
   "id": "4bb15a2a",
   "metadata": {
    "id": "4bb15a2a"
   },
   "outputs": [],
   "source": [
    "model.save(\"model.h5\")"
   ]
  },
  {
   "cell_type": "code",
   "execution_count": 54,
   "id": "geNB38Apftlf",
   "metadata": {
    "colab": {
     "base_uri": "https://localhost:8080/"
    },
    "id": "geNB38Apftlf",
    "outputId": "d53fe113-0445-4fa2-f406-b52a53abf978"
   },
   "outputs": [
    {
     "name": "stdout",
     "output_type": "stream",
     "text": [
      "model.h5\r\n"
     ]
    }
   ],
   "source": [
    "! tar -zcvf model.tgz model.h5"
   ]
  },
  {
   "cell_type": "code",
   "execution_count": 55,
   "id": "7O6k0fpWfud0",
   "metadata": {
    "id": "7O6k0fpWfud0"
   },
   "outputs": [
    {
     "name": "stdout",
     "output_type": "stream",
     "text": [
      "Collecting watson-machine-learning-client\n",
      "  Downloading watson_machine_learning_client-1.0.391-py3-none-any.whl (538 kB)\n",
      "\u001b[K     |████████████████████████████████| 538 kB 13.0 MB/s eta 0:00:01\n",
      "\u001b[?25hRequirement already satisfied: tqdm in /opt/conda/envs/Python-3.9/lib/python3.9/site-packages (from watson-machine-learning-client) (4.62.3)\n",
      "Requirement already satisfied: ibm-cos-sdk in /opt/conda/envs/Python-3.9/lib/python3.9/site-packages (from watson-machine-learning-client) (2.11.0)\n",
      "Requirement already satisfied: urllib3 in /opt/conda/envs/Python-3.9/lib/python3.9/site-packages (from watson-machine-learning-client) (1.26.7)\n",
      "Requirement already satisfied: pandas in /opt/conda/envs/Python-3.9/lib/python3.9/site-packages (from watson-machine-learning-client) (1.3.4)\n",
      "Requirement already satisfied: boto3 in /opt/conda/envs/Python-3.9/lib/python3.9/site-packages (from watson-machine-learning-client) (1.18.21)\n",
      "Requirement already satisfied: certifi in /opt/conda/envs/Python-3.9/lib/python3.9/site-packages (from watson-machine-learning-client) (2022.9.24)\n",
      "Requirement already satisfied: requests in /opt/conda/envs/Python-3.9/lib/python3.9/site-packages (from watson-machine-learning-client) (2.26.0)\n",
      "Requirement already satisfied: tabulate in /opt/conda/envs/Python-3.9/lib/python3.9/site-packages (from watson-machine-learning-client) (0.8.9)\n",
      "Requirement already satisfied: lomond in /opt/conda/envs/Python-3.9/lib/python3.9/site-packages (from watson-machine-learning-client) (0.3.3)\n",
      "Requirement already satisfied: s3transfer<0.6.0,>=0.5.0 in /opt/conda/envs/Python-3.9/lib/python3.9/site-packages (from boto3->watson-machine-learning-client) (0.5.0)\n",
      "Requirement already satisfied: botocore<1.22.0,>=1.21.21 in /opt/conda/envs/Python-3.9/lib/python3.9/site-packages (from boto3->watson-machine-learning-client) (1.21.41)\n",
      "Requirement already satisfied: jmespath<1.0.0,>=0.7.1 in /opt/conda/envs/Python-3.9/lib/python3.9/site-packages (from boto3->watson-machine-learning-client) (0.10.0)\n",
      "Requirement already satisfied: python-dateutil<3.0.0,>=2.1 in /opt/conda/envs/Python-3.9/lib/python3.9/site-packages (from botocore<1.22.0,>=1.21.21->boto3->watson-machine-learning-client) (2.8.2)\n",
      "Requirement already satisfied: six>=1.5 in /opt/conda/envs/Python-3.9/lib/python3.9/site-packages (from python-dateutil<3.0.0,>=2.1->botocore<1.22.0,>=1.21.21->boto3->watson-machine-learning-client) (1.15.0)\n",
      "Requirement already satisfied: ibm-cos-sdk-s3transfer==2.11.0 in /opt/conda/envs/Python-3.9/lib/python3.9/site-packages (from ibm-cos-sdk->watson-machine-learning-client) (2.11.0)\n",
      "Requirement already satisfied: ibm-cos-sdk-core==2.11.0 in /opt/conda/envs/Python-3.9/lib/python3.9/site-packages (from ibm-cos-sdk->watson-machine-learning-client) (2.11.0)\n",
      "Requirement already satisfied: charset-normalizer~=2.0.0 in /opt/conda/envs/Python-3.9/lib/python3.9/site-packages (from requests->watson-machine-learning-client) (2.0.4)\n",
      "Requirement already satisfied: idna<4,>=2.5 in /opt/conda/envs/Python-3.9/lib/python3.9/site-packages (from requests->watson-machine-learning-client) (3.3)\n",
      "Requirement already satisfied: pytz>=2017.3 in /opt/conda/envs/Python-3.9/lib/python3.9/site-packages (from pandas->watson-machine-learning-client) (2021.3)\n",
      "Requirement already satisfied: numpy>=1.17.3 in /opt/conda/envs/Python-3.9/lib/python3.9/site-packages (from pandas->watson-machine-learning-client) (1.19.5)\n",
      "Installing collected packages: watson-machine-learning-client\n",
      "Successfully installed watson-machine-learning-client-1.0.391\n"
     ]
    }
   ],
   "source": [
    "!pip install watson-machine-learning-client --upgrade"
   ]
  },
  {
   "cell_type": "code",
   "execution_count": 58,
   "id": "0a761c04",
   "metadata": {},
   "outputs": [],
   "source": [
    "from ibm_watson_machine_learning import APIClient\n",
    "wml_credentials = {\"url\":\"https://us-south.ml.cloud.ibm.com\",\n",
    "                   \"apikey\":\"0j_SqD_B1yCNZyVWxmRBcDVXrnEocKvcNNFuO-ZJlYPL\"}\n",
    "client = APIClient(wml_credentials)"
   ]
  },
  {
   "cell_type": "code",
   "execution_count": 59,
   "id": "ebfba24d",
   "metadata": {},
   "outputs": [],
   "source": [
    "def guid_from_space_name(client,space_name):\n",
    "    space = client.spaces.get_details()\n",
    "    #print(space)\n",
    "    return(next(item for item in space['resources'] if item['entity']['name'] == space_name)['metadata']['id'])"
   ]
  },
  {
   "cell_type": "code",
   "execution_count": 60,
   "id": "8a13ce8b",
   "metadata": {},
   "outputs": [
    {
     "name": "stdout",
     "output_type": "stream",
     "text": [
      "Space UID = 841bd899-c7e3-445c-9015-de92ddbb61e7\n"
     ]
    }
   ],
   "source": [
    "space_uid = guid_from_space_name(client,'digitrecognition')\n",
    "print(\"Space UID = \"+ space_uid)"
   ]
  },
  {
   "cell_type": "code",
   "execution_count": 61,
   "id": "e0793e29",
   "metadata": {},
   "outputs": [
    {
     "data": {
      "text/plain": [
       "'SUCCESS'"
      ]
     },
     "execution_count": 61,
     "metadata": {},
     "output_type": "execute_result"
    }
   ],
   "source": [
    "client.set.default_space(space_uid)"
   ]
  },
  {
   "cell_type": "code",
   "execution_count": 62,
   "id": "d21b6a6c",
   "metadata": {},
   "outputs": [
    {
     "name": "stdout",
     "output_type": "stream",
     "text": [
      "-------------------------------  ------------------------------------  ----\n",
      "NAME                             ASSET_ID                              TYPE\n",
      "default_py3.6                    0062b8c9-8b7d-44a0-a9b9-46c416adcbd9  base\n",
      "kernel-spark3.2-scala2.12        020d69ce-7ac1-5e68-ac1a-31189867356a  base\n",
      "pytorch-onnx_1.3-py3.7-edt       069ea134-3346-5748-b513-49120e15d288  base\n",
      "scikit-learn_0.20-py3.6          09c5a1d0-9c1e-4473-a344-eb7b665ff687  base\n",
      "spark-mllib_3.0-scala_2.12       09f4cff0-90a7-5899-b9ed-1ef348aebdee  base\n",
      "pytorch-onnx_rt22.1-py3.9        0b848dd4-e681-5599-be41-b5f6fccc6471  base\n",
      "ai-function_0.1-py3.6            0cdb0f1e-5376-4f4d-92dd-da3b69aa9bda  base\n",
      "shiny-r3.6                       0e6e79df-875e-4f24-8ae9-62dcc2148306  base\n",
      "tensorflow_2.4-py3.7-horovod     1092590a-307d-563d-9b62-4eb7d64b3f22  base\n",
      "pytorch_1.1-py3.6                10ac12d6-6b30-4ccd-8392-3e922c096a92  base\n",
      "tensorflow_1.15-py3.6-ddl        111e41b3-de2d-5422-a4d6-bf776828c4b7  base\n",
      "autoai-kb_rt22.2-py3.10          125b6d9a-5b1f-5e8d-972a-b251688ccf40  base\n",
      "runtime-22.1-py3.9               12b83a17-24d8-5082-900f-0ab31fbfd3cb  base\n",
      "scikit-learn_0.22-py3.6          154010fa-5b3b-4ac1-82af-4d5ee5abbc85  base\n",
      "default_r3.6                     1b70aec3-ab34-4b87-8aa0-a4a3c8296a36  base\n",
      "pytorch-onnx_1.3-py3.6           1bc6029a-cc97-56da-b8e0-39c3880dbbe7  base\n",
      "kernel-spark3.3-r3.6             1c9e5454-f216-59dd-a20e-474a5cdf5988  base\n",
      "pytorch-onnx_rt22.1-py3.9-edt    1d362186-7ad5-5b59-8b6c-9d0880bde37f  base\n",
      "tensorflow_2.1-py3.6             1eb25b84-d6ed-5dde-b6a5-3fbdf1665666  base\n",
      "spark-mllib_3.2                  20047f72-0a98-58c7-9ff5-a77b012eb8f5  base\n",
      "tensorflow_2.4-py3.8-horovod     217c16f6-178f-56bf-824a-b19f20564c49  base\n",
      "runtime-22.1-py3.9-cuda          26215f05-08c3-5a41-a1b0-da66306ce658  base\n",
      "do_py3.8                         295addb5-9ef9-547e-9bf4-92ae3563e720  base\n",
      "autoai-ts_3.8-py3.8              2aa0c932-798f-5ae9-abd6-15e0c2402fb5  base\n",
      "tensorflow_1.15-py3.6            2b73a275-7cbf-420b-a912-eae7f436e0bc  base\n",
      "kernel-spark3.3-py3.9            2b7961e2-e3b1-5a8c-a491-482c8368839a  base\n",
      "pytorch_1.2-py3.6                2c8ef57d-2687-4b7d-acce-01f94976dac1  base\n",
      "spark-mllib_2.3                  2e51f700-bca0-4b0d-88dc-5c6791338875  base\n",
      "pytorch-onnx_1.1-py3.6-edt       32983cea-3f32-4400-8965-dde874a8d67e  base\n",
      "spark-mllib_3.0-py37             36507ebe-8770-55ba-ab2a-eafe787600e9  base\n",
      "spark-mllib_2.4                  390d21f8-e58b-4fac-9c55-d7ceda621326  base\n",
      "autoai-ts_rt22.2-py3.10          396b2e83-0953-5b86-9a55-7ce1628a406f  base\n",
      "xgboost_0.82-py3.6               39e31acd-5f30-41dc-ae44-60233c80306e  base\n",
      "pytorch-onnx_1.2-py3.6-edt       40589d0e-7019-4e28-8daa-fb03b6f4fe12  base\n",
      "pytorch-onnx_rt22.2-py3.10       40e73f55-783a-5535-b3fa-0c8b94291431  base\n",
      "default_r36py38                  41c247d3-45f8-5a71-b065-8580229facf0  base\n",
      "autoai-ts_rt22.1-py3.9           4269d26e-07ba-5d40-8f66-2d495b0c71f7  base\n",
      "autoai-obm_3.0                   42b92e18-d9ab-567f-988a-4240ba1ed5f7  base\n",
      "pmml-3.0_4.3                     493bcb95-16f1-5bc5-bee8-81b8af80e9c7  base\n",
      "spark-mllib_2.4-r_3.6            49403dff-92e9-4c87-a3d7-a42d0021c095  base\n",
      "xgboost_0.90-py3.6               4ff8d6c2-1343-4c18-85e1-689c965304d3  base\n",
      "pytorch-onnx_1.1-py3.6           50f95b2a-bc16-43bb-bc94-b0bed208c60b  base\n",
      "autoai-ts_3.9-py3.8              52c57136-80fa-572e-8728-a5e7cbb42cde  base\n",
      "spark-mllib_2.4-scala_2.11       55a70f99-7320-4be5-9fb9-9edb5a443af5  base\n",
      "spark-mllib_3.0                  5c1b0ca2-4977-5c2e-9439-ffd44ea8ffe9  base\n",
      "autoai-obm_2.0                   5c2e37fa-80b8-5e77-840f-d912469614ee  base\n",
      "spss-modeler_18.1                5c3cad7e-507f-4b2a-a9a3-ab53a21dee8b  base\n",
      "cuda-py3.8                       5d3232bf-c86b-5df4-a2cd-7bb870a1cd4e  base\n",
      "runtime-22.2-py3.10-xc           5e8cddff-db4a-5a6a-b8aa-2d4af9864dab  base\n",
      "autoai-kb_3.1-py3.7              632d4b22-10aa-5180-88f0-f52dfb6444d7  base\n",
      "pytorch-onnx_1.7-py3.8           634d3cdc-b562-5bf9-a2d4-ea90a478456b  base\n",
      "spark-mllib_2.3-r_3.6            6586b9e3-ccd6-4f92-900f-0f8cb2bd6f0c  base\n",
      "tensorflow_2.4-py3.7             65e171d7-72d1-55d9-8ebb-f813d620c9bb  base\n",
      "spss-modeler_18.2                687eddc9-028a-4117-b9dd-e57b36f1efa5  base\n",
      "pytorch-onnx_1.2-py3.6           692a6a4d-2c4d-45ff-a1ed-b167ee55469a  base\n",
      "spark-mllib_2.3-scala_2.11       7963efe5-bbec-417e-92cf-0574e21b4e8d  base\n",
      "spark-mllib_2.4-py37             7abc992b-b685-532b-a122-a396a3cdbaab  base\n",
      "caffe_1.0-py3.6                  7bb3dbe2-da6e-4145-918d-b6d84aa93b6b  base\n",
      "pytorch-onnx_1.7-py3.7           812c6631-42b7-5613-982b-02098e6c909c  base\n",
      "cuda-py3.6                       82c79ece-4d12-40e6-8787-a7b9e0f62770  base\n",
      "tensorflow_1.15-py3.6-horovod    8964680e-d5e4-5bb8-919b-8342c6c0dfd8  base\n",
      "hybrid_0.1                       8c1a58c6-62b5-4dc4-987a-df751c2756b6  base\n",
      "pytorch-onnx_1.3-py3.7           8d5d8a87-a912-54cf-81ec-3914adaa988d  base\n",
      "caffe-ibm_1.0-py3.6              8d863266-7927-4d1e-97d7-56a7f4c0a19b  base\n",
      "runtime-22.2-py3.10-cuda         8ef391e4-ef58-5d46-b078-a82c211c1058  base\n",
      "spss-modeler_17.1                902d0051-84bd-4af6-ab6b-8f6aa6fdeabb  base\n",
      "do_12.10                         9100fd72-8159-4eb9-8a0b-a87e12eefa36  base\n",
      "do_py3.7                         9447fa8b-2051-4d24-9eef-5acb0e3c59f8  base\n",
      "spark-mllib_3.0-r_3.6            94bb6052-c837-589d-83f1-f4142f219e32  base\n",
      "cuda-py3.7-opence                94e9652b-7f2d-59d5-ba5a-23a414ea488f  base\n",
      "nlp-py3.8                        96e60351-99d4-5a1c-9cc0-473ac1b5a864  base\n",
      "cuda-py3.7                       9a44990c-1aa1-4c7d-baf8-c4099011741c  base\n",
      "hybrid_0.2                       9b3f9040-9cee-4ead-8d7a-780600f542f7  base\n",
      "spark-mllib_3.0-py38             9f7a8fc1-4d3c-5e65-ab90-41fa8de2d418  base\n",
      "autoai-kb_3.3-py3.7              a545cca3-02df-5c61-9e88-998b09dc79af  base\n",
      "spark-mllib_3.0-py39             a6082a27-5acc-5163-b02c-6b96916eb5e0  base\n",
      "runtime-22.1-py3.9-do            a7e7dbf1-1d03-5544-994d-e5ec845ce99a  base\n",
      "default_py3.8                    ab9e1b80-f2ce-592c-a7d2-4f2344f77194  base\n",
      "tensorflow_rt22.1-py3.9          acd9c798-6974-5d2f-a657-ce06e986df4d  base\n",
      "kernel-spark3.2-py3.9            ad7033ee-794e-58cf-812e-a95f4b64b207  base\n",
      "autoai-obm_2.0 with Spark 3.0    af10f35f-69fa-5d66-9bf5-acb58434263a  base\n",
      "runtime-22.2-py3.10              b56101f1-309d-549b-a849-eaa63f77b2fb  base\n",
      "default_py3.7_opence             c2057dd4-f42c-5f77-a02f-72bdbd3282c9  base\n",
      "tensorflow_2.1-py3.7             c4032338-2a40-500a-beef-b01ab2667e27  base\n",
      "do_py3.7_opence                  cc8f8976-b74a-551a-bb66-6377f8d865b4  base\n",
      "spark-mllib_3.3                  d11f2434-4fc7-58b7-8a62-755da64fdaf8  base\n",
      "autoai-kb_3.0-py3.6              d139f196-e04b-5d8b-9140-9a10ca1fa91a  base\n",
      "spark-mllib_3.0-py36             d82546d5-dd78-5fbb-9131-2ec309bc56ed  base\n",
      "autoai-kb_3.4-py3.8              da9b39c3-758c-5a4f-9cfd-457dd4d8c395  base\n",
      "kernel-spark3.2-r3.6             db2fe4d6-d641-5d05-9972-73c654c60e0a  base\n",
      "autoai-kb_rt22.1-py3.9           db6afe93-665f-5910-b117-d879897404d9  base\n",
      "tensorflow_rt22.1-py3.9-horovod  dda170cc-ca67-5da7-9b7a-cf84c6987fae  base\n",
      "autoai-ts_1.0-py3.7              deef04f0-0c42-5147-9711-89f9904299db  base\n",
      "tensorflow_2.1-py3.7-horovod     e384fce5-fdd1-53f8-bc71-11326c9c635f  base\n",
      "default_py3.7                    e4429883-c883-42b6-87a8-f419d64088cd  base\n",
      "do_22.1                          e51999ba-6452-5f1f-8287-17228b88b652  base\n",
      "autoai-obm_3.2                   eae86aab-da30-5229-a6a6-1d0d4e368983  base\n",
      "runtime-22.2-r4.2                ec0a3d28-08f7-556c-9674-ca7c2dba30bd  base\n",
      "tensorflow_rt22.2-py3.10         f65bd165-f057-55de-b5cb-f97cf2c0f393  base\n",
      "do_20.1                          f686cdd9-7904-5f9d-a732-01b0d6b10dc5  base\n",
      "pytorch-onnx_rt22.2-py3.10-edt   f8a05d07-e7cd-57bb-a10b-23f1d4b837ac  base\n",
      "scikit-learn_0.19-py3.6          f963fa9d-4bb7-5652-9c5d-8d9289ef6ad9  base\n",
      "tensorflow_2.4-py3.8             fe185c44-9a99-5425-986b-59bd1d2eda46  base\n",
      "-------------------------------  ------------------------------------  ----\n"
     ]
    }
   ],
   "source": [
    "client.software_specifications.list(limit=150)"
   ]
  },
  {
   "cell_type": "code",
   "execution_count": 63,
   "id": "70f5a4ce",
   "metadata": {},
   "outputs": [
    {
     "data": {
      "text/plain": [
       "'acd9c798-6974-5d2f-a657-ce06e986df4d'"
      ]
     },
     "execution_count": 63,
     "metadata": {},
     "output_type": "execute_result"
    }
   ],
   "source": [
    "software_spec_uid = client.software_specifications.get_uid_by_name(\"tensorflow_rt22.1-py3.9\")\n",
    "software_spec_uid"
   ]
  },
  {
   "cell_type": "code",
   "execution_count": 64,
   "id": "a32bca85",
   "metadata": {},
   "outputs": [],
   "source": [
    "model_details = client.repository.store_model(model=\"model.tgz\",meta_props={\n",
    "    client.repository.ModelMetaNames.NAME: \"CNN\",\n",
    "    client.repository.ModelMetaNames.TYPE:\"tensorflow_2.7\",\n",
    "    client.repository.ModelMetaNames.SOFTWARE_SPEC_UID:software_spec_uid}\n",
    "                                              )"
   ]
  },
  {
   "cell_type": "code",
   "execution_count": 65,
   "id": "9be5a737",
   "metadata": {},
   "outputs": [
    {
     "data": {
      "text/plain": [
       "{'entity': {'hybrid_pipeline_software_specs': [],\n",
       "  'software_spec': {'id': 'acd9c798-6974-5d2f-a657-ce06e986df4d',\n",
       "   'name': 'tensorflow_rt22.1-py3.9'},\n",
       "  'type': 'tensorflow_2.7'},\n",
       " 'metadata': {'created_at': '2022-11-18T07:17:16.365Z',\n",
       "  'id': 'f0116ed6-12e0-4c57-8493-8afe6efeb079',\n",
       "  'modified_at': '2022-11-18T07:17:19.151Z',\n",
       "  'name': 'CNN',\n",
       "  'owner': 'IBMid-666002LO9F',\n",
       "  'resource_key': '5f65949c-4de1-485a-8d78-5ef0b4c475cd',\n",
       "  'space_id': '841bd899-c7e3-445c-9015-de92ddbb61e7'},\n",
       " 'system': {'warnings': []}}"
      ]
     },
     "execution_count": 65,
     "metadata": {},
     "output_type": "execute_result"
    }
   ],
   "source": [
    "model_details"
   ]
  },
  {
   "cell_type": "code",
   "execution_count": 74,
   "id": "5ace97d2",
   "metadata": {},
   "outputs": [
    {
     "data": {
      "text/plain": [
       "'f0116ed6-12e0-4c57-8493-8afe6efeb079'"
      ]
     },
     "execution_count": 74,
     "metadata": {},
     "output_type": "execute_result"
    }
   ],
   "source": [
    "model_id = client.repository.get_model_id(model_details)\n",
    "model_id"
   ]
  },
  {
   "cell_type": "code",
   "execution_count": 75,
   "id": "ce8d899a",
   "metadata": {},
   "outputs": [
    {
     "name": "stderr",
     "output_type": "stream",
     "text": [
      "File with name: 'model.tar.gz' already exists.\n"
     ]
    },
    {
     "ename": "WMLClientError",
     "evalue": "File with name: 'model.tar.gz' already exists.",
     "output_type": "error",
     "traceback": [
      "\u001b[0;31m---------------------------------------------------------------------------\u001b[0m",
      "\u001b[0;31mWMLClientError\u001b[0m                            Traceback (most recent call last)",
      "\u001b[0;32m/tmp/wsuser/ipykernel_165/2095448029.py\u001b[0m in \u001b[0;36m<module>\u001b[0;34m\u001b[0m\n\u001b[0;32m----> 1\u001b[0;31m \u001b[0mclient\u001b[0m\u001b[0;34m.\u001b[0m\u001b[0mrepository\u001b[0m\u001b[0;34m.\u001b[0m\u001b[0mdownload\u001b[0m\u001b[0;34m(\u001b[0m\u001b[0mmodel_id\u001b[0m\u001b[0;34m,\u001b[0m\u001b[0;34m'model.tar.gz'\u001b[0m\u001b[0;34m)\u001b[0m\u001b[0;34m\u001b[0m\u001b[0;34m\u001b[0m\u001b[0m\n\u001b[0m",
      "\u001b[0;32m/opt/conda/envs/Python-3.9/lib/python3.9/site-packages/ibm_watson_machine_learning/repository.py\u001b[0m in \u001b[0;36mdownload\u001b[0;34m(self, artifact_uid, filename, rev_uid, format)\u001b[0m\n\u001b[1;32m    901\u001b[0m \u001b[0;34m\u001b[0m\u001b[0m\n\u001b[1;32m    902\u001b[0m         \u001b[0;32mif\u001b[0m \u001b[0mres\u001b[0m\u001b[0;34m[\u001b[0m\u001b[0;34m'model'\u001b[0m\u001b[0;34m]\u001b[0m \u001b[0;32mis\u001b[0m \u001b[0;32mTrue\u001b[0m\u001b[0;34m:\u001b[0m\u001b[0;34m\u001b[0m\u001b[0;34m\u001b[0m\u001b[0m\n\u001b[0;32m--> 903\u001b[0;31m             \u001b[0;32mreturn\u001b[0m \u001b[0mself\u001b[0m\u001b[0;34m.\u001b[0m\u001b[0m_client\u001b[0m\u001b[0;34m.\u001b[0m\u001b[0m_models\u001b[0m\u001b[0;34m.\u001b[0m\u001b[0mdownload\u001b[0m\u001b[0;34m(\u001b[0m\u001b[0martifact_uid\u001b[0m\u001b[0;34m,\u001b[0m \u001b[0mfilename\u001b[0m\u001b[0;34m,\u001b[0m \u001b[0mrev_uid\u001b[0m\u001b[0;34m,\u001b[0m\u001b[0mformat\u001b[0m\u001b[0;34m)\u001b[0m\u001b[0;34m\u001b[0m\u001b[0;34m\u001b[0m\u001b[0m\n\u001b[0m\u001b[1;32m    904\u001b[0m         \u001b[0;32melif\u001b[0m \u001b[0mres\u001b[0m\u001b[0;34m[\u001b[0m\u001b[0;34m'function'\u001b[0m\u001b[0;34m]\u001b[0m \u001b[0;32mis\u001b[0m \u001b[0;32mTrue\u001b[0m\u001b[0;34m:\u001b[0m\u001b[0;34m\u001b[0m\u001b[0;34m\u001b[0m\u001b[0m\n\u001b[1;32m    905\u001b[0m             \u001b[0;32mreturn\u001b[0m \u001b[0mself\u001b[0m\u001b[0;34m.\u001b[0m\u001b[0m_client\u001b[0m\u001b[0;34m.\u001b[0m\u001b[0m_functions\u001b[0m\u001b[0;34m.\u001b[0m\u001b[0mdownload\u001b[0m\u001b[0;34m(\u001b[0m\u001b[0martifact_uid\u001b[0m\u001b[0;34m,\u001b[0m \u001b[0mfilename\u001b[0m\u001b[0;34m,\u001b[0m \u001b[0mrev_uid\u001b[0m\u001b[0;34m)\u001b[0m\u001b[0;34m\u001b[0m\u001b[0;34m\u001b[0m\u001b[0m\n",
      "\u001b[0;32m/opt/conda/envs/Python-3.9/lib/python3.9/site-packages/ibm_watson_machine_learning/models.py\u001b[0m in \u001b[0;36mdownload\u001b[0;34m(self, model_uid, filename, rev_uid, format)\u001b[0m\n\u001b[1;32m   1803\u001b[0m         \"\"\"\n\u001b[1;32m   1804\u001b[0m         \u001b[0;32mif\u001b[0m \u001b[0mos\u001b[0m\u001b[0;34m.\u001b[0m\u001b[0mpath\u001b[0m\u001b[0;34m.\u001b[0m\u001b[0misfile\u001b[0m\u001b[0;34m(\u001b[0m\u001b[0mfilename\u001b[0m\u001b[0;34m)\u001b[0m\u001b[0;34m:\u001b[0m\u001b[0;34m\u001b[0m\u001b[0;34m\u001b[0m\u001b[0m\n\u001b[0;32m-> 1805\u001b[0;31m             \u001b[0;32mraise\u001b[0m \u001b[0mWMLClientError\u001b[0m\u001b[0;34m(\u001b[0m\u001b[0;34mu'File with name: \\'{}\\' already exists.'\u001b[0m\u001b[0;34m.\u001b[0m\u001b[0mformat\u001b[0m\u001b[0;34m(\u001b[0m\u001b[0mfilename\u001b[0m\u001b[0;34m)\u001b[0m\u001b[0;34m)\u001b[0m\u001b[0;34m\u001b[0m\u001b[0;34m\u001b[0m\u001b[0m\n\u001b[0m\u001b[1;32m   1806\u001b[0m         \u001b[0;32mif\u001b[0m \u001b[0mrev_uid\u001b[0m \u001b[0;32mis\u001b[0m \u001b[0;32mnot\u001b[0m \u001b[0;32mNone\u001b[0m \u001b[0;32mand\u001b[0m \u001b[0mself\u001b[0m\u001b[0;34m.\u001b[0m\u001b[0m_client\u001b[0m\u001b[0;34m.\u001b[0m\u001b[0mICP_30\u001b[0m \u001b[0;32mis\u001b[0m \u001b[0;32mNone\u001b[0m \u001b[0;32mand\u001b[0m \u001b[0;32mnot\u001b[0m \u001b[0mself\u001b[0m\u001b[0;34m.\u001b[0m\u001b[0m_client\u001b[0m\u001b[0;34m.\u001b[0m\u001b[0mCLOUD_PLATFORM_SPACES\u001b[0m\u001b[0;31m\\\u001b[0m\u001b[0;34m\u001b[0m\u001b[0;34m\u001b[0m\u001b[0m\n\u001b[1;32m   1807\u001b[0m                 \u001b[0;32mand\u001b[0m \u001b[0mself\u001b[0m\u001b[0;34m.\u001b[0m\u001b[0m_client\u001b[0m\u001b[0;34m.\u001b[0m\u001b[0mICP_35\u001b[0m \u001b[0;32mis\u001b[0m \u001b[0;32mNone\u001b[0m \u001b[0;32mand\u001b[0m \u001b[0mself\u001b[0m\u001b[0;34m.\u001b[0m\u001b[0m_client\u001b[0m\u001b[0;34m.\u001b[0m\u001b[0mICP_40\u001b[0m \u001b[0;32mis\u001b[0m \u001b[0;32mNone\u001b[0m \u001b[0;32mand\u001b[0m \u001b[0mself\u001b[0m\u001b[0;34m.\u001b[0m\u001b[0m_client\u001b[0m\u001b[0;34m.\u001b[0m\u001b[0mICP_45\u001b[0m \u001b[0;32mis\u001b[0m \u001b[0;32mNone\u001b[0m\u001b[0;31m \u001b[0m\u001b[0;31m\\\u001b[0m\u001b[0;34m\u001b[0m\u001b[0;34m\u001b[0m\u001b[0m\n",
      "\u001b[0;31mWMLClientError\u001b[0m: File with name: 'model.tar.gz' already exists."
     ]
    }
   ],
   "source": [
    "client.repository.download(model_id,'model.tar.gz')"
   ]
  },
  {
   "cell_type": "code",
   "execution_count": 76,
   "id": "2d625ef6",
   "metadata": {},
   "outputs": [
    {
     "name": "stdout",
     "output_type": "stream",
     "text": [
      "model.h5  model.tar.gz  model.tgz\r\n"
     ]
    }
   ],
   "source": [
    "ls"
   ]
  },
  {
   "cell_type": "code",
   "execution_count": 78,
   "id": "0ad6210f",
   "metadata": {},
   "outputs": [],
   "source": [
    "from tensorflow.keras.models import load_model\n",
    "from PIL import Image"
   ]
  },
  {
   "cell_type": "code",
   "execution_count": 79,
   "id": "25ece60b",
   "metadata": {},
   "outputs": [],
   "source": [
    "model = load_model('model.h5')"
   ]
  },
  {
   "cell_type": "code",
   "execution_count": 81,
   "id": "fd6782ac",
   "metadata": {},
   "outputs": [],
   "source": [
    "\n",
    "import os, types\n",
    "import pandas as pd\n",
    "from botocore.client import Config\n",
    "import ibm_boto3\n",
    "\n",
    "def __iter__(self): return 0\n",
    "\n",
    "# @hidden_cell\n",
    "# The following code accesses a file in your IBM Cloud Object Storage. It includes your credentials.\n",
    "# You might want to remove those credentials before you share the notebook.\n",
    "cos_client = ibm_boto3.client(service_name='s3',\n",
    "    ibm_api_key_id='K8bR0mRzSMZw7xEGpLNDargfvgFjTC-onrkxiWT5fbAP',\n",
    "    ibm_auth_endpoint=\"https://iam.cloud.ibm.com/oidc/token\",\n",
    "    config=Config(signature_version='oauth'),\n",
    "    endpoint_url='https://s3.private.us.cloud-object-storage.appdomain.cloud')\n",
    "\n",
    "bucket = 'handwrittendigitrecognition-donotdelete-pr-6kufggzi6yx1dt'\n",
    "object_key = '7.jpg'\n",
    "\n",
    "streaming_body_3 = cos_client.get_object(Bucket=bucket, Key=object_key)['Body']\n",
    "\n",
    "\n",
    "\n",
    "# Your data file was loaded into a botocore.response.StreamingBody object.\n",
    "# Please read the documentation of ibm_boto3 and pandas to learn more about the possibilities to load the data.\n",
    "# ibm_boto3 documentation: https://ibm.github.io/ibm-cos-sdk-python/\n",
    "# pandas documentation: http://pandas.pydata.org/\n"
   ]
  },
  {
   "cell_type": "code",
   "execution_count": 82,
   "id": "43507955",
   "metadata": {},
   "outputs": [],
   "source": [
    "\n",
    "img = Image.open(streaming_body_3).convert(\"L\") # convert image to monochrome\n",
    "img = img.resize( (28,28) ) # resizing of input image"
   ]
  },
  {
   "cell_type": "code",
   "execution_count": 83,
   "id": "1f234df3",
   "metadata": {},
   "outputs": [
    {
     "data": {
      "image/png": "[encoded data removed]",
      "text/plain": [
       "<PIL.Image.Image image mode=L size=28x28 at 0x7F634BBA5E80>"
      ]
     },
     "execution_count": 83,
     "metadata": {},
     "output_type": "execute_result"
    }
   ],
   "source": [
    "img"
   ]
  },
  {
   "cell_type": "code",
   "execution_count": 84,
   "id": "2d861e23",
   "metadata": {},
   "outputs": [],
   "source": [
    "im2arr = np.array(img) #converting to image\n",
    "im2arr = im2arr.reshape(1, 28, 28, 1)"
   ]
  },
  {
   "cell_type": "code",
   "execution_count": 85,
   "id": "5337891d",
   "metadata": {},
   "outputs": [
    {
     "name": "stdout",
     "output_type": "stream",
     "text": [
      "[[2.0475562e-17 3.1749671e-13 6.4609829e-08 3.8410974e-08 2.1131146e-19\n",
      "  5.3135599e-21 2.7256558e-21 9.9999988e-01 9.1358930e-16 3.5906616e-13]]\n"
     ]
    }
   ],
   "source": [
    "pred = model.predict(im2arr)\n",
    "print(pred)"
   ]
  },
  {
   "cell_type": "code",
   "execution_count": 86,
   "id": "e30bdc10",
   "metadata": {},
   "outputs": [
    {
     "name": "stdout",
     "output_type": "stream",
     "text": [
      "[7]\n"
     ]
    }
   ],
   "source": [
    "print(np.argmax(pred, axis=1))"
   ]
  },
  {
   "cell_type": "code",
   "execution_count": null,
   "id": "b8ccd021",
   "metadata": {
    "id": "b8ccd021"
   },
   "outputs": [],
   "source": []
  },
  {
   "cell_type": "code",
   "execution_count": null,
   "id": "6c2ada20",
   "metadata": {
    "id": "6c2ada20"
   },
   "outputs": [],
   "source": []
  },
  {
   "cell_type": "code",
   "execution_count": null,
   "id": "cd171318",
   "metadata": {
    "id": "cd171318"
   },
   "outputs": [],
   "source": []
  },
  {
   "cell_type": "code",
   "execution_count": null,
   "id": "bd3de54b",
   "metadata": {
    "id": "bd3de54b"
   },
   "outputs": [],
   "source": []
  },
  {
   "cell_type": "code",
   "execution_count": null,
   "id": "d4a98ec6",
   "metadata": {
    "id": "d4a98ec6"
   },
   "outputs": [],
   "source": []
  },
  {
   "cell_type": "code",
   "execution_count": null,
   "id": "f542abe3",
   "metadata": {
    "id": "f542abe3"
   },
   "outputs": [],
   "source": []
  },
  {
   "cell_type": "code",
   "execution_count": null,
   "id": "194f5f62",
   "metadata": {
    "id": "194f5f62"
   },
   "outputs": [],
   "source": []
  },
  {
   "cell_type": "code",
   "execution_count": null,
   "id": "b33e2757",
   "metadata": {
    "id": "b33e2757"
   },
   "outputs": [],
   "source": []
  },
  {
   "cell_type": "code",
   "execution_count": null,
   "id": "57c842f8",
   "metadata": {
    "id": "57c842f8"
   },
   "outputs": [],
   "source": []
  },
  {
   "cell_type": "code",
   "execution_count": null,
   "id": "25379d79",
   "metadata": {
    "id": "25379d79"
   },
   "outputs": [],
   "source": []
  },
  {
   "cell_type": "code",
   "execution_count": null,
   "id": "d046b2bd",
   "metadata": {
    "id": "d046b2bd"
   },
   "outputs": [],
   "source": []
  },
  {
   "cell_type": "code",
   "execution_count": null,
   "id": "126a01bb",
   "metadata": {
    "id": "126a01bb"
   },
   "outputs": [],
   "source": []
  },
  {
   "cell_type": "code",
   "execution_count": null,
   "id": "b9f9f7e4",
   "metadata": {
    "id": "b9f9f7e4"
   },
   "outputs": [],
   "source": []
  },
  {
   "cell_type": "code",
   "execution_count": null,
   "id": "339d7dd5",
   "metadata": {
    "id": "339d7dd5"
   },
   "outputs": [],
   "source": []
  },
  {
   "cell_type": "code",
   "execution_count": null,
   "id": "bcebd2d4",
   "metadata": {
    "id": "bcebd2d4"
   },
   "outputs": [],
   "source": []
  }
 ],
 "metadata": {
  "colab": {
   "provenance": []
  },
  "kernelspec": {
   "display_name": "Python 3.9",
   "language": "python",
   "name": "python3"
  },
  "language_info": {
   "codemirror_mode": {
    "name": "ipython",
    "version": 3
   },
   "file_extension": ".py",
   "mimetype": "text/x-python",
   "name": "python",
   "nbconvert_exporter": "python",
   "pygments_lexer": "ipython3",
   "version": "3.9.13"
  }
 },
 "nbformat": 4,
 "nbformat_minor": 5
}
